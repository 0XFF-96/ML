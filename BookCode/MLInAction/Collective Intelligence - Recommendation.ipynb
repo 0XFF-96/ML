{
 "cells": [
  {
   "cell_type": "code",
   "execution_count": 1,
   "metadata": {
    "collapsed": true
   },
   "outputs": [],
   "source": [
    "critics={'Lisa Rose': {'Lady in the Water': 2.5, 'Snakes on a Plane': 3.5,\n",
    " 'Just My Luck': 3.0, 'Superman Returns': 3.5, 'You, Me and Dupree': 2.5, \n",
    " 'The Night Listener': 3.0},\n",
    "'Gene Seymour': {'Lady in the Water': 3.0, 'Snakes on a Plane': 3.5, \n",
    " 'Just My Luck': 1.5, 'Superman Returns': 5.0, 'The Night Listener': 3.0, \n",
    " 'You, Me and Dupree': 3.5}, \n",
    "'Michael Phillips': {'Lady in the Water': 2.5, 'Snakes on a Plane': 3.0,\n",
    " 'Superman Returns': 3.5, 'The Night Listener': 4.0},\n",
    "'Claudia Puig': {'Snakes on a Plane': 3.5, 'Just My Luck': 3.0,\n",
    " 'The Night Listener': 4.5, 'Superman Returns': 4.0, \n",
    " 'You, Me and Dupree': 2.5},\n",
    "'Mick LaSalle': {'Lady in the Water': 3.0, 'Snakes on a Plane': 4.0, \n",
    " 'Just My Luck': 2.0, 'Superman Returns': 3.0, 'The Night Listener': 3.0,\n",
    " 'You, Me and Dupree': 2.0}, \n",
    "'Jack Matthews': {'Lady in the Water': 3.0, 'Snakes on a Plane': 4.0,\n",
    " 'The Night Listener': 3.0, 'Superman Returns': 5.0, 'You, Me and Dupree': 3.5},\n",
    "'Toby': {'Snakes on a Plane':4.5,'You, Me and Dupree':1.0,'Superman Returns':4.0}}\n"
   ]
  },
  {
   "cell_type": "code",
   "execution_count": 2,
   "metadata": {
    "collapsed": true
   },
   "outputs": [],
   "source": [
    "from math import sqrt"
   ]
  },
  {
   "cell_type": "code",
   "execution_count": 3,
   "metadata": {
    "collapsed": true
   },
   "outputs": [],
   "source": [
    "# Returns a distance-based similarity score for person1 and person2"
   ]
  },
  {
   "cell_type": "code",
   "execution_count": 11,
   "metadata": {
    "collapsed": true
   },
   "outputs": [],
   "source": [
    "def sim_distance(prefs, person1, person2):\n",
    "    si = {}\n",
    "    \n",
    "    for item in prefs[person1]:\n",
    "        if item in prefs[person2]:si[item] = 1\n",
    "    \n",
    "    if len(si) == 0: return 0 \n",
    "    \n",
    "    #add up teh squares fo all teh differences \n",
    "    \n",
    "    sum_of_squares = sum([pow(prefs[person1][item] - prefs[person2][item],2)\n",
    "                          for item in prefs[person1] if item in prefs[person2]])\n",
    "    \n",
    "    return 1/(1+sum_of_squares)\n",
    "\n"
   ]
  },
  {
   "cell_type": "code",
   "execution_count": 12,
   "metadata": {},
   "outputs": [
    {
     "data": {
      "text/plain": [
       "0.14814814814814814"
      ]
     },
     "execution_count": 12,
     "metadata": {},
     "output_type": "execute_result"
    }
   ],
   "source": [
    "sim_distance(critics, 'Lisa Rose', 'Gene Seymour')"
   ]
  },
  {
   "cell_type": "code",
   "execution_count": 22,
   "metadata": {},
   "outputs": [],
   "source": [
    "def sim_person(prefs, p1, p2):\n",
    "    # get the list of mutually retaed items\n",
    "    \n",
    "    si = {}\n",
    "    for item in prefs[p1]:\n",
    "        if item in prefs[p2]: \n",
    "            si[item] = 1\n",
    "            \n",
    "    #if they are no ratings in commin , return 0 \n",
    "    \n",
    "    if len(si)==0:\n",
    "        return 0 \n",
    "    \n",
    "    #sum calculations \n",
    "    n = len(si)\n",
    "    \n",
    "    #Sums of all teh preferences \n",
    "    sum1 = sum([prefs[p1][it] for it in si])\n",
    "    sum2 = sum([prefs[p2][it] for it in si])\n",
    "    \n",
    "    #sums of all the squares \n",
    "    sum1Sq = sum([pow(prefs[p1][it], 2) for it in si])\n",
    "    sum2Sq = sum([pow(prefs[p2][it], 2) for it in si])\n",
    "    \n",
    "    #Sum of the products \n",
    "    pSum = sum([prefs[p1][it]*prefs[p2][it] for it in si])\n",
    "    \n",
    "    #Calculate r (person score)\n",
    "    \n",
    "    num = pSum - (sum1 * sum2/n)\n",
    "    den = sqrt((sum1Sq - pow(sum1, 2)/n )*(sum2Sq - pow(sum2, 2)/n))\n",
    "    \n",
    "    if den == 0:\n",
    "        return 0\n",
    "            \n",
    "    r = num / den\n",
    "               \n",
    "    return r\n",
    "               "
   ]
  },
  {
   "cell_type": "code",
   "execution_count": 23,
   "metadata": {},
   "outputs": [
    {
     "data": {
      "text/plain": [
       "0.39605901719066977"
      ]
     },
     "execution_count": 23,
     "metadata": {},
     "output_type": "execute_result"
    }
   ],
   "source": [
    "sim_person(critics, 'Lisa Rose' , 'Gene Seymour')"
   ]
  },
  {
   "cell_type": "code",
   "execution_count": 32,
   "metadata": {
    "collapsed": true
   },
   "outputs": [],
   "source": [
    "def topMatches(prefs, person, n=5, similarity=sim_person):\n",
    "    scores = [(similarity(prefs, person, other), other)\n",
    "                 for other in prefs if other!= person]\n",
    "    \n",
    "    scores.sort()\n",
    "    scores.reverse()\n",
    "    \n",
    "    return scores[0:n]\n",
    "\n",
    "# Return the best matches for person from the prefs dictionary.\n",
    "# Number of results and similarity function are optional params."
   ]
  },
  {
   "cell_type": "code",
   "execution_count": 45,
   "metadata": {},
   "outputs": [],
   "source": [
    "def getRecommendations(prefs, person, similarity=sim_person):\n",
    "    totals = {}\n",
    "    simSums = {}\n",
    "    \n",
    "    for other in prefs:\n",
    "        #don't compare me to myself\n",
    "        if other == person:\n",
    "            continue\n",
    "            \n",
    "        sim=similarity(prefs, person, other)\n",
    "        \n",
    "    #ignore socres of zero or lower\n",
    "        if sim < 0 :\n",
    "            continue\n",
    "        \n",
    "    for item in prefs[other]:\n",
    "        \n",
    "        #only score movies I haven't seen yet \n",
    "        if item not in prefs[person] or prefs[person][item] == 0:\n",
    "            #Similarity * socre \n",
    "            \n",
    "            totals.setdefault(item, 0)\n",
    "            totals[item] += prefs[other][item]* sim \n",
    "            \n",
    "            #sum of similarities\n",
    "            simSums.setdefault(item, 0)   # ?\n",
    "            simSums[item] += sim \n",
    "            \n",
    "    #Create teh normalized list \n",
    "    \n",
    "    rankings=[(total/simSms[item], item) for item, total in totals.items()]\n",
    "    \n",
    "    #Return the sorted list \n",
    "    \n",
    "    rankings.sort()\n",
    "    rankings.reverse()\n",
    "    \n",
    "    return rankings"
   ]
  },
  {
   "cell_type": "code",
   "execution_count": 46,
   "metadata": {
    "scrolled": true
   },
   "outputs": [
    {
     "data": {
      "text/plain": [
       "[(0.9912407071619299, 'Lisa Rose'),\n",
       " (0.9244734516419049, 'Mick LaSalle'),\n",
       " (0.8934051474415647, 'Claudia Puig')]"
      ]
     },
     "execution_count": 46,
     "metadata": {},
     "output_type": "execute_result"
    }
   ],
   "source": [
    "topMatches(critics, 'Toby', n=3)"
   ]
  },
  {
   "cell_type": "code",
   "execution_count": 48,
   "metadata": {},
   "outputs": [
    {
     "data": {
      "text/plain": [
       "[]"
      ]
     },
     "execution_count": 48,
     "metadata": {},
     "output_type": "execute_result"
    }
   ],
   "source": [
    "getRecommendations(critics, 'Lisa Rose')"
   ]
  },
  {
   "cell_type": "code",
   "execution_count": 50,
   "metadata": {},
   "outputs": [],
   "source": [
    "def getRecommendations2(prefs,person,similarity=sim_person):\n",
    "  totals={}\n",
    "  simSums={}\n",
    "  for other in prefs:\n",
    "    # don't compare me to myself\n",
    "    if other==person: continue\n",
    "    sim=similarity(prefs,person,other)\n",
    "\n",
    "    # ignore scores of zero or lower\n",
    "    if sim<=0: continue\n",
    "    for item in prefs[other]:\n",
    "\t    \n",
    "      # only score movies I haven't seen yet\n",
    "      if item not in prefs[person] or prefs[person][item]==0:\n",
    "        # Similarity * Score\n",
    "        totals.setdefault(item,0)\n",
    "        totals[item]+=prefs[other][item]*sim\n",
    "        # Sum of similarities\n",
    "        simSums.setdefault(item,0)\n",
    "        simSums[item]+=sim\n",
    "\n",
    "  # Create the normalized list\n",
    "  rankings=[(total/simSums[item],item) for item,total in totals.items()]\n",
    "\n",
    "  # Return the sorted list\n",
    "  rankings.sort()\n",
    "  rankings.reverse()\n",
    "  return rankings\n"
   ]
  },
  {
   "cell_type": "code",
   "execution_count": 57,
   "metadata": {},
   "outputs": [
    {
     "data": {
      "text/plain": [
       "[(3.3477895267131017, 'The Night Listener'),\n",
       " (2.8325499182641614, 'Lady in the Water'),\n",
       " (2.530980703765565, 'Just My Luck')]"
      ]
     },
     "execution_count": 57,
     "metadata": {},
     "output_type": "execute_result"
    }
   ],
   "source": [
    "getRecommendations2(critics, 'Toby')"
   ]
  },
  {
   "cell_type": "code",
   "execution_count": 56,
   "metadata": {},
   "outputs": [
    {
     "data": {
      "text/plain": [
       "[]"
      ]
     },
     "execution_count": 56,
     "metadata": {},
     "output_type": "execute_result"
    }
   ],
   "source": [
    "getRecommendations2(critics, 'Lisa Rose')"
   ]
  },
  {
   "cell_type": "code",
   "execution_count": 59,
   "metadata": {},
   "outputs": [
    {
     "data": {
      "text/plain": [
       "[(2.8092760065251268, 'Just My Luck'),\n",
       " (2.694636703980363, 'You, Me and Dupree')]"
      ]
     },
     "execution_count": 59,
     "metadata": {},
     "output_type": "execute_result"
    }
   ],
   "source": [
    "getRecommendations2(critics, 'Michael Phillips')"
   ]
  },
  {
   "cell_type": "code",
   "execution_count": 60,
   "metadata": {},
   "outputs": [
    {
     "data": {
      "text/plain": [
       "[]"
      ]
     },
     "execution_count": 60,
     "metadata": {},
     "output_type": "execute_result"
    }
   ],
   "source": [
    "getRecommendations2(critics, 'Gene Seymour')"
   ]
  },
  {
   "cell_type": "code",
   "execution_count": 61,
   "metadata": {},
   "outputs": [
    {
     "data": {
      "text/plain": [
       "[(2.150559004463025, 'Just My Luck')]"
      ]
     },
     "execution_count": 61,
     "metadata": {},
     "output_type": "execute_result"
    }
   ],
   "source": [
    "getRecommendations2(critics, 'Jack Matthews')"
   ]
  },
  {
   "cell_type": "code",
   "execution_count": 62,
   "metadata": {
    "collapsed": true
   },
   "outputs": [],
   "source": [
    "critics2={'A1':{'L1':10, 'L2':9,'L3':8, 'D1':7},\n",
    "            'A2':{'L2':9, 'L3':8, 'D1':7, 'D2':6, 'D3':5}}"
   ]
  },
  {
   "cell_type": "code",
   "execution_count": 63,
   "metadata": {},
   "outputs": [
    {
     "data": {
      "text/plain": [
       "9"
      ]
     },
     "execution_count": 63,
     "metadata": {},
     "output_type": "execute_result"
    }
   ],
   "source": [
    "critics2['A1']['L2']"
   ]
  },
  {
   "cell_type": "code",
   "execution_count": 66,
   "metadata": {},
   "outputs": [
    {
     "data": {
      "text/plain": [
       "1.0"
      ]
     },
     "execution_count": 66,
     "metadata": {},
     "output_type": "execute_result"
    }
   ],
   "source": [
    "sim_distance(critics2,'A1','A2' )"
   ]
  },
  {
   "cell_type": "code",
   "execution_count": 73,
   "metadata": {},
   "outputs": [],
   "source": [
    "test2={'A1':{'L1':10, 'L2':9,'L3':8, 'D1':7},\n",
    "            'A2':{'L2':9, 'L3':8, 'D1':7, 'D2':6, 'D3':5},\n",
    "        'A3': {'L1':1, 'D1':10, 'D2':6, 'D3':5}}"
   ]
  },
  {
   "cell_type": "code",
   "execution_count": 74,
   "metadata": {},
   "outputs": [
    {
     "data": {
      "text/plain": [
       "0.1"
      ]
     },
     "execution_count": 74,
     "metadata": {},
     "output_type": "execute_result"
    }
   ],
   "source": [
    "sim_distance(test2, 'A2', 'A3')"
   ]
  },
  {
   "cell_type": "code",
   "execution_count": 75,
   "metadata": {},
   "outputs": [
    {
     "data": {
      "text/plain": [
       "[(6.0, 'D2'), (5.0, 'D3')]"
      ]
     },
     "execution_count": 75,
     "metadata": {},
     "output_type": "execute_result"
    }
   ],
   "source": [
    "getRecommendations2(test2, 'A1')"
   ]
  },
  {
   "cell_type": "code",
   "execution_count": 76,
   "metadata": {
    "collapsed": true
   },
   "outputs": [],
   "source": [
    "def getRecommendedItems(pref, itemMatch,user):\n",
    "    userRatings = pref[user]\n",
    "    \n",
    "    socres = {}\n",
    "    \n",
    "    totalSim = {}\n",
    "    # Loop over items similar to this one \n",
    "    \n",
    "    for (item, rating) in userRatings.itmes():\n",
    "        \n",
    "        for (similarity, item2) in itemMatch[item]:\n",
    "            \n",
    "            #Ignore if this user hash already rated this item \n",
    "            if item2 in userRatings: \n",
    "                continue \n",
    "                \n",
    "            scores.setdefault(items, 0)\n",
    "            scores[item2] += similarity * rating \n",
    "            \n",
    "            #Sum of all teh similaritites \n",
    "            \n",
    "            totalSim.setdefault(item2, 0)\n",
    "            totalSim[item2] += similarity \n",
    "            \n",
    "        #Divide each total score by total weighting to get an average\n",
    "    rankings = [(socre/totalSim[item], item) for item, score in scores.items() ]\n",
    "    \n",
    "    # Return the rankings from highest to lowest \n",
    "    rankings.sort()\n",
    "    rankings.reverse()\n",
    "    \n",
    "    return rankings \n"
   ]
  },
  {
   "cell_type": "code",
   "execution_count": null,
   "metadata": {
    "collapsed": true
   },
   "outputs": [],
   "source": []
  }
 ],
 "metadata": {
  "kernelspec": {
   "display_name": "Python 3",
   "language": "python",
   "name": "python3"
  },
  "language_info": {
   "codemirror_mode": {
    "name": "ipython",
    "version": 3
   },
   "file_extension": ".py",
   "mimetype": "text/x-python",
   "name": "python",
   "nbconvert_exporter": "python",
   "pygments_lexer": "ipython3",
   "version": "3.6.1"
  }
 },
 "nbformat": 4,
 "nbformat_minor": 2
}
