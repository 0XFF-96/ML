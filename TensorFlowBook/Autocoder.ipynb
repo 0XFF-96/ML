{
 "cells": [
  {
   "cell_type": "code",
   "execution_count": 3,
   "metadata": {},
   "outputs": [],
   "source": [
    "import numpy as np\n",
    "import sklearn.preprocessing as prep\n",
    "import tensorflow as tf\n",
    "from tensorflow.examples.tutorials.mnist import input_data\n"
   ]
  },
  {
   "cell_type": "code",
   "execution_count": 4,
   "metadata": {
    "collapsed": true
   },
   "outputs": [],
   "source": [
    "def xavier_init(fan_in, fan_out, constant=1):\n",
    "    low = -constant * np.sqrt(6.0 / (fan_in + fan_out))\n",
    "    high = constant * np.sqrt(6.0 / (fan_in + fan_out))\n",
    "    \n",
    "    return tf.random_uniform((fan_in , fan_out), \n",
    "                              minval = low , maxval = high, \n",
    "                            dtype = tf.float32)"
   ]
  },
  {
   "cell_type": "code",
   "execution_count": 74,
   "metadata": {
    "collapsed": true
   },
   "outputs": [],
   "source": [
    "class AdditiveGaussianNoiseAutoencoder(object):\n",
    "    \n",
    "    def __init__(self, n_input, n_hidden, transfer_function=tf.nn.softplus, \n",
    "                 optimizer = tf.train.AdamOptimizer(), scale=0.1):\n",
    "        \n",
    "        self.n_input = n_input\n",
    "        self.n_hidden = n_hidden \n",
    "        self.transfer = transfer_function\n",
    "        self.scale = tf.placeholder(tf.float32)\n",
    "        self.training_scale = scale \n",
    "        network_weights = self._initializer_weights()\n",
    "        self.weights = network_weights\n",
    "        \n",
    "        self.x = tf.placeholder(tf.float32, [None, self.n_input])\n",
    "        self.hidden = self.transfer(tf.add(tf.matmul(\n",
    "                                        self.x + scale * tf.random_normal((n_input,)),\n",
    "                                        self.weights['w1']), self.weights['b1']))\n",
    "    \n",
    "        self.reconstruction = tf.add(tf.matmul(self.hidden, \n",
    "                                                self.weights['w2']), self.weights['b2'])\n",
    "        \n",
    "        \n",
    "        self.cost = 0.5 * tf.reduce_sum(tf.pow(tf.subtract(\n",
    "                                    self.reconstruction, self.x), 2.0))\n",
    "        self.optimizer = optimizer.minimize(self.cost)\n",
    "        \n",
    "        init = tf.global_variables_initializer()\n",
    "        self.sess = tf.Session()\n",
    "        self.sess.run(init)\n",
    "        \n",
    "    def _initializer_weights(self):\n",
    "    \n",
    "        all_weights = dict()\n",
    "        all_weights['w1'] = tf.Variable(xavier_init(self.n_input, \n",
    "                                                    self.n_hidden))\n",
    "\n",
    "        all_weights['b1'] = tf.Variable(tf.zeros([self.n_hidden], \n",
    "                                                    dtype = tf.float32))\n",
    "        all_weights['w2'] = tf.Variable(tf.zeros([self.n_hidden, \n",
    "                                                    self.n_input], dtype = tf.float32))\n",
    "\n",
    "        all_weights['b2'] = tf.Variable(tf.zeros([self.n_input], \n",
    "                                                 dtype = tf.float32))\n",
    "        return all_weights\n",
    "    \n",
    "    def partial_fit(self, X):\n",
    "        cost, opt = self.sess.run((self.cost, self.optimizer), \n",
    "                                     feed_dict = {self.x : X, self.scale: self.training_scale})\n",
    "        return cost \n",
    "    \n",
    "    def calc_total_cost(slef, X):\n",
    "\n",
    "        return self.sess.run(self.cost, feed_dict = {self.x : X, \n",
    "                                                    self.scale: self.training_scale})\n",
    "    def transform(self, X):\n",
    "\n",
    "        return self.sess.run(self.hidden, feed_dict = {self.x : X, \n",
    "                                                          self.scale: self.training_scale})\n",
    "\n",
    "    def generate(self, hidden = None):\n",
    "\n",
    "        if hidden is None : \n",
    "            hidden = np.random.normal(size = self.weights['b1'])\n",
    "\n",
    "        return self.sess.run(self.reconstruction, \n",
    "                                feed_dict = {self.hidden:hidden})\n",
    "\n",
    "    def reconstruct(self, X):\n",
    "\n",
    "        return self.sess.run(self.reconstruction, feed_dict = {self.x:X, \n",
    "                                                                  self.scale: self.training_scale})\n",
    "    def getWeights(self):\n",
    "\n",
    "        return self.sees.run(self.weights['w1'])\n",
    "\n",
    "    def getBiases(self):\n",
    "\n",
    "        return self.sess.run(self.weights['b1'])\n",
    "    \n"
   ]
  },
  {
   "cell_type": "code",
   "execution_count": 21,
   "metadata": {},
   "outputs": [
    {
     "name": "stdout",
     "output_type": "stream",
     "text": [
      "Extracting MNIST_data/train-images-idx3-ubyte.gz\n",
      "Successfully downloaded train-labels-idx1-ubyte.gz 28881 bytes.\n",
      "Extracting MNIST_data/train-labels-idx1-ubyte.gz\n",
      "Successfully downloaded t10k-images-idx3-ubyte.gz 1648877 bytes.\n",
      "Extracting MNIST_data/t10k-images-idx3-ubyte.gz\n",
      "Successfully downloaded t10k-labels-idx1-ubyte.gz 4542 bytes.\n",
      "Extracting MNIST_data/t10k-labels-idx1-ubyte.gz\n"
     ]
    }
   ],
   "source": [
    "mnist = input_data.read_data_sets('MNIST_data', one_hot = True)"
   ]
  },
  {
   "cell_type": "code",
   "execution_count": null,
   "metadata": {
    "collapsed": true
   },
   "outputs": [],
   "source": [
    "# standrize the data_set.. instead of using MaxMin , we use ..."
   ]
  },
  {
   "cell_type": "code",
   "execution_count": 66,
   "metadata": {
    "collapsed": true
   },
   "outputs": [],
   "source": [
    "def standard_scale(X_train, X_test):\n",
    "    preprocessor = prep.StandardScaler().fit(X_train)\n",
    "    X_Train = preprocessor.transform(X_train)\n",
    "    X_test = preprocessor.transform(X_test)\n",
    "    \n",
    "    return X_train, X_test"
   ]
  },
  {
   "cell_type": "code",
   "execution_count": 67,
   "metadata": {},
   "outputs": [],
   "source": [
    "def get_random_block_from_data(data, batch_size):\n",
    "    \n",
    "    start_index = np.random.randint(0, len(data) -batch_size)\n",
    "    \n",
    "    return data[start_index:(start_index + batch_size)]"
   ]
  },
  {
   "cell_type": "code",
   "execution_count": 84,
   "metadata": {
    "collapsed": true
   },
   "outputs": [],
   "source": [
    "n_samples = int(mnist.train.num_examples)\n",
    "training_epochs = 20\n",
    "batch_size = 128\n",
    "display_step = 1"
   ]
  },
  {
   "cell_type": "code",
   "execution_count": 85,
   "metadata": {
    "collapsed": true
   },
   "outputs": [],
   "source": [
    "X_train, X_test = standard_scale(mnist.train.images, mnist.test.images)"
   ]
  },
  {
   "cell_type": "code",
   "execution_count": 86,
   "metadata": {},
   "outputs": [],
   "source": [
    "autoencodeer = AdditiveGaussianNoiseAutoencoder(n_input = 784, \n",
    "                                               n_hidden = 200, \n",
    "                                               transfer_function = tf.nn.softplus, \n",
    "                                               optimizer = tf.train.AdamOptimizer(learning_rate = 0.001), \n",
    "                                               scale = 0.01)"
   ]
  },
  {
   "cell_type": "code",
   "execution_count": 88,
   "metadata": {},
   "outputs": [
    {
     "name": "stdout",
     "output_type": "stream",
     "text": [
      "Epoch:  0001 cost=  1105.196905256\n",
      "Epoch:  0002 cost=  375.803518111\n",
      "Epoch:  0003 cost=  286.923969141\n",
      "Epoch:  0004 cost=  246.333073438\n",
      "Epoch:  0005 cost=  223.527925142\n",
      "Epoch:  0006 cost=  207.205850781\n",
      "Epoch:  0007 cost=  196.941118608\n",
      "Epoch:  0008 cost=  188.429349751\n",
      "Epoch:  0009 cost=  183.491486648\n",
      "Epoch:  0010 cost=  179.916228764\n",
      "Epoch:  0011 cost=  176.493121307\n",
      "Epoch:  0012 cost=  175.436255966\n",
      "Epoch:  0013 cost=  174.717839986\n",
      "Epoch:  0014 cost=  173.342107884\n",
      "Epoch:  0015 cost=  170.705293643\n",
      "Epoch:  0016 cost=  172.880268466\n",
      "Epoch:  0017 cost=  168.920769460\n",
      "Epoch:  0018 cost=  168.358138068\n",
      "Epoch:  0019 cost=  169.065333416\n",
      "Epoch:  0020 cost=  168.022548260\n"
     ]
    }
   ],
   "source": [
    "for epoch in range(training_epochs):\n",
    "    \n",
    "    avg_cost = 0.\n",
    "    total_batch = int(n_samples / batch_size)\n",
    "    \n",
    "    for i in range(total_batch):\n",
    "        \n",
    "        batch_xs = get_random_block_from_data(X_train, batch_size)\n",
    "        \n",
    "        cost = autoencodeer.partial_fit(batch_xs)\n",
    "        avg_cost += cost / n_samples * batch_size\n",
    "        \n",
    "    if epoch % display_step == 0:\n",
    "        \n",
    "        print('Epoch: ', '%04d'%(epoch + 1), 'cost= ', \n",
    "              '{:.9f}'.format(avg_cost))\n",
    "        "
   ]
  },
  {
   "cell_type": "code",
   "execution_count": null,
   "metadata": {
    "collapsed": true
   },
   "outputs": [],
   "source": []
  }
 ],
 "metadata": {
  "kernelspec": {
   "display_name": "Python 3",
   "language": "python",
   "name": "python3"
  },
  "language_info": {
   "codemirror_mode": {
    "name": "ipython",
    "version": 3
   },
   "file_extension": ".py",
   "mimetype": "text/x-python",
   "name": "python",
   "nbconvert_exporter": "python",
   "pygments_lexer": "ipython3",
   "version": "3.6.1"
  }
 },
 "nbformat": 4,
 "nbformat_minor": 2
}
