{
 "cells": [
  {
   "cell_type": "code",
   "execution_count": 1,
   "metadata": {
    "collapsed": true
   },
   "outputs": [],
   "source": [
    "#poi_flag_email.py\n",
    "# in poiFlagEmail() below, write code that returns a boolean\n",
    "# indication if a given email is from POI\n",
    "\n",
    "#import sys\n",
    "#import reader \n",
    "#import poi_emails"
   ]
  },
  {
   "cell_type": "code",
   "execution_count": 4,
   "metadata": {},
   "outputs": [
    {
     "data": {
      "text/plain": [
       "\"\\ndef getToFromStrings(f):\\n\\n    the imported reader.py file contains functions that we've crerated to help\\n    parse e-mails from the corpus. getAddresses() reads in the opening lines\\n    of an-email to find the To: From : and CC: strings, while the . parseAddresses() line takes each string\\n    and extracts the e-mail addresses as a list.\\n\\n\\n    f.seek(0)\\n    to_string, from_stirng, cc_string = reader.getAddresses(f)\\n    to_emails = reader.parseAddresses( to_string )\\n    from_emails = reader.parseAddresses( from_string )\\n    cc_emails = reader.parseAddresses( cc_string )\\n    \\n    return to_emials , from_emails, cc_emails\\n\\n\\n\\n\\n\\n\""
      ]
     },
     "execution_count": 4,
     "metadata": {},
     "output_type": "execute_result"
    }
   ],
   "source": [
    "'''\n",
    "def getToFromStrings(f):\n",
    "\n",
    "    the imported reader.py file contains functions that we've crerated to help\n",
    "    parse e-mails from the corpus. getAddresses() reads in the opening lines\n",
    "    of an-email to find the To: From : and CC: strings, while the . parseAddresses() line takes each string\n",
    "    and extracts the e-mail addresses as a list.\n",
    "\n",
    "\n",
    "    f.seek(0)\n",
    "    to_string, from_stirng, cc_string = reader.getAddresses(f)\n",
    "    to_emails = reader.parseAddresses( to_string )\n",
    "    from_emails = reader.parseAddresses( from_string )\n",
    "    cc_emails = reader.parseAddresses( cc_string )\n",
    "    \n",
    "    return to_emials , from_emails, cc_emails\n",
    "\n",
    "\n",
    "\n",
    "\n",
    "\n",
    "'''"
   ]
  },
  {
   "cell_type": "code",
   "execution_count": 5,
   "metadata": {},
   "outputs": [
    {
     "data": {
      "text/plain": [
       "'\\ndef poiFlagEmail(f):\\n\\n    given an email file f, \\n    return a trio of booleans for whether that email si \\n    to, from , or cc\\'ing a poi \\n\\n    to_email_list = poi_emails.poiEmails()\\n    \\n    to_poi = False\\n    from_poi = False\\n    cc_poi = False\\n    \\n    ### to_poi and cc_poi are boolean variables which flag whether the email \\n    ### under inspection is addressed to a POI, or if a POI is in cc.\\n    ### respectively . You don\\'t have to change this code at all.\\n    \\n    ### There can be many \"to\" emails , but only one \"from\" , so the \\n    ### \"to\" processing needs to be a litter more complicated\\n    \\n    \\n    if to_emails:\\n        ctr = 0 \\n        while not to_poi and ctr < len(to_emails):\\n            if to_emails[ctr] in poi_email_list:\\n                to_poi = True\\n            ctr += 1\\n            \\n    if cc_emails:\\n        ctr = 0 \\n        while not cc_poi and ctr < len(cc_emails):\\n            if cc_emails[ctr] in poi_email_list:\\n                cc_poi = true\\n            ctr += 1\\n            \\n\\n##Your code below \\n# set from_poi to True if \\n# the email is from a POI\\n\\n\\n\\n    return to_poi, from poi, cc_poi\\n            \\n            '"
      ]
     },
     "execution_count": 5,
     "metadata": {},
     "output_type": "execute_result"
    }
   ],
   "source": [
    "'''\n",
    "def poiFlagEmail(f):\n",
    "\n",
    "    given an email file f, \n",
    "    return a trio of booleans for whether that email si \n",
    "    to, from , or cc'ing a poi \n",
    "\n",
    "    to_email_list = poi_emails.poiEmails()\n",
    "    \n",
    "    to_poi = False\n",
    "    from_poi = False\n",
    "    cc_poi = False\n",
    "    \n",
    "    ### to_poi and cc_poi are boolean variables which flag whether the email \n",
    "    ### under inspection is addressed to a POI, or if a POI is in cc.\n",
    "    ### respectively . You don't have to change this code at all.\n",
    "    \n",
    "    ### There can be many \"to\" emails , but only one \"from\" , so the \n",
    "    ### \"to\" processing needs to be a litter more complicated\n",
    "    \n",
    "    \n",
    "    if to_emails:\n",
    "        ctr = 0 \n",
    "        while not to_poi and ctr < len(to_emails):\n",
    "            if to_emails[ctr] in poi_email_list:\n",
    "                to_poi = True\n",
    "            ctr += 1\n",
    "            \n",
    "    if cc_emails:\n",
    "        ctr = 0 \n",
    "        while not cc_poi and ctr < len(cc_emails):\n",
    "            if cc_emails[ctr] in poi_email_list:\n",
    "                cc_poi = true\n",
    "            ctr += 1\n",
    "            \n",
    "\n",
    "##Your code below \n",
    "# set from_poi to True if \n",
    "# the email is from a POI\n",
    "\n",
    "\n",
    "\n",
    "    return to_poi, from poi, cc_poi\n",
    "            \n",
    "            '''"
   ]
  },
  {
   "cell_type": "code",
   "execution_count": 7,
   "metadata": {},
   "outputs": [
    {
     "data": {
      "text/plain": [
       "'\\nstudentMain.py\\n\\nimport os\\nimport sys\\nimport zipfile\\nfrom poi_flag_email import poiFlagEmail, getToFromStings\\n\\ndata_dict = {}\\n\\nwith zipfile.ZipFile(\\'emails.zip\\', \\'r\\') as z:\\n    z.extractall()\\n    \\n    \\nfor emial_message in os.listdir(\"emails\"):\\n    if email_message == \".DS_Store\":\\n        continue \\n        \\n    message = open(os.getcwd() + \"/emails/\" + email_message, \"r\")\\n    to_address, from_addresses, cc_addresses = getToFromStrings(message)\\n    \\n    to_poi, from_poi, cc_poi = poiFlagEmail(message)\\n    \\n    for recipient in to_addresses:\\n        # initialize counter\\n        if recipient not in data_dict:\\n\\n            data_dict[recipient] {\"from_poi_to_this\":0}\\n            #add to count\\n            if from_poi:\\n\\n\\n'"
      ]
     },
     "execution_count": 7,
     "metadata": {},
     "output_type": "execute_result"
    }
   ],
   "source": [
    "'''\n",
    "studentMain.py\n",
    "\n",
    "import os\n",
    "import sys\n",
    "import zipfile\n",
    "from poi_flag_email import poiFlagEmail, getToFromStings\n",
    "\n",
    "data_dict = {}\n",
    "\n",
    "with zipfile.ZipFile('emails.zip', 'r') as z:\n",
    "    z.extractall()\n",
    "    \n",
    "    \n",
    "for emial_message in os.listdir(\"emails\"):\n",
    "    if email_message == \".DS_Store\":\n",
    "        continue \n",
    "        \n",
    "    message = open(os.getcwd() + \"/emails/\" + email_message, \"r\")\n",
    "    to_address, from_addresses, cc_addresses = getToFromStrings(message)\n",
    "    \n",
    "    to_poi, from_poi, cc_poi = poiFlagEmail(message)\n",
    "    \n",
    "    for recipient in to_addresses:\n",
    "        # initialize counter\n",
    "        if recipient not in data_dict:\n",
    "\n",
    "            data_dict[recipient] {\"from_poi_to_this\":0}\n",
    "            #add to count\n",
    "            if from_poi:\n",
    "                data_dict[recipient]['from_poi_to_this_preson\"] += 1\n",
    "                \n",
    "    message.close()\n",
    "    \n",
    "\n",
    "for item in data_dict:\n",
    "    print items, data_dict[item]\n",
    "    \n",
    "\n",
    "def submitData():\n",
    "    return data_dict\n",
    "    \n",
    "\n",
    "\n",
    "'''"
   ]
  },
  {
   "cell_type": "code",
   "execution_count": 8,
   "metadata": {},
   "outputs": [
    {
     "data": {
      "text/plain": [
       "'\\nimport pickle\\nfrom get_data import getData\\n\\ndef computerFraction(poi_messages, all_messages ):\\n\\n\\n'"
      ]
     },
     "execution_count": 8,
     "metadata": {},
     "output_type": "execute_result"
    }
   ],
   "source": [
    "'''\n",
    "import pickle\n",
    "from get_data import getData\n",
    "\n",
    "def computerFraction(poi_messages, all_messages ):\n",
    "\n",
    "    given a number messages to/from POI(numerator)\n",
    "    and number of all messages to/from a person (denominator)\n",
    "    return the fraction of messages to/from that person\n",
    "    that are from/to a POI\n",
    "    \n",
    "    #you fill in this code , so that it returns either \n",
    "    the farction of all messages to thist peroson that come from POIs\n",
    "    \n",
    "    fraction = 0.\n",
    "    \n",
    "    return fraction\n",
    "    \n",
    "    \n",
    "\n",
    "\n",
    "'''"
   ]
  },
  {
   "cell_type": "code",
   "execution_count": null,
   "metadata": {
    "collapsed": true
   },
   "outputs": [],
   "source": []
  }
 ],
 "metadata": {
  "kernelspec": {
   "display_name": "Python 3",
   "language": "python",
   "name": "python3"
  },
  "language_info": {
   "codemirror_mode": {
    "name": "ipython",
    "version": 3
   },
   "file_extension": ".py",
   "mimetype": "text/x-python",
   "name": "python",
   "nbconvert_exporter": "python",
   "pygments_lexer": "ipython3",
   "version": "3.6.1"
  }
 },
 "nbformat": 4,
 "nbformat_minor": 2
}
