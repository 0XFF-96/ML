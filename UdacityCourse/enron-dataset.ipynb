{
 "cells": [
  {
   "cell_type": "code",
   "execution_count": 1,
   "metadata": {},
   "outputs": [
    {
     "data": {
      "text/plain": [
       "\"\\ncorporate fraud history!\\nPoint out places where it's possible that mistakes could sneak in \\n* Accuracy --> Training set size \\n\\n\\nhow to unzip dataset ..\\nhow many fo the persons of interest do I have emails from ?\\n\\nas a picle file , it can be loaded adn saved as python object directly.\\n\\n\\n\""
      ]
     },
     "execution_count": 1,
     "metadata": {},
     "output_type": "execute_result"
    }
   ],
   "source": [
    "'''\n",
    "corporate fraud history!\n",
    "Point out places where it's possible that mistakes could sneak in \n",
    "* Accuracy --> Training set size \n",
    "\n",
    "\n",
    "how to unzip dataset ..\n",
    "how many fo the persons of interest do I have emails from ?\n",
    "\n",
    "as a picle file , it can be loaded adn saved as python object directly.\n",
    "\n",
    "\n",
    "'''"
   ]
  },
  {
   "cell_type": "code",
   "execution_count": 2,
   "metadata": {
    "collapsed": true
   },
   "outputs": [],
   "source": [
    "### how many perople on dataset ?!\n",
    "### How many data points (ie, people ) are in the Enron dataset ?"
   ]
  },
  {
   "cell_type": "code",
   "execution_count": 3,
   "metadata": {
    "collapsed": true
   },
   "outputs": [],
   "source": [
    "### for each person, how many features are availabel ?\n"
   ]
  },
  {
   "cell_type": "code",
   "execution_count": 4,
   "metadata": {},
   "outputs": [
    {
     "data": {
      "text/plain": [
       "\"import pickle \\nenron_data = pickle.load(open('../finalxxxx.pkl', 'r'))\\nprint (len(enron_data))\\n\""
      ]
     },
     "execution_count": 4,
     "metadata": {},
     "output_type": "execute_result"
    }
   ],
   "source": [
    "'''import pickle \n",
    "enron_data = pickle.load(open('../finalxxxx.pkl', 'r'))\n",
    "print (len(enron_data))\n",
    "'''"
   ]
  },
  {
   "cell_type": "code",
   "execution_count": 5,
   "metadata": {},
   "outputs": [
    {
     "data": {
      "text/plain": [
       "'\\nfor key in enron_data:\\n    print len(enron_data[key])\\n    break\\n'"
      ]
     },
     "execution_count": 5,
     "metadata": {},
     "output_type": "execute_result"
    }
   ],
   "source": [
    "'''\n",
    "for key in enron_data:\n",
    "    print len(enron_data[key])\n",
    "    break\n",
    "'''"
   ]
  },
  {
   "cell_type": "code",
   "execution_count": 6,
   "metadata": {
    "collapsed": true
   },
   "outputs": [],
   "source": [
    "#How many POI in it ??"
   ]
  },
  {
   "cell_type": "code",
   "execution_count": 7,
   "metadata": {},
   "outputs": [
    {
     "data": {
      "text/plain": [
       "'\\nc = 0\\nfor key in enron_data:\\n    item = enron_data[key]\\n    if item[\"poi] == 1:\\n        c = c +1\\nprint c\\n'"
      ]
     },
     "execution_count": 7,
     "metadata": {},
     "output_type": "execute_result"
    }
   ],
   "source": [
    "'''\n",
    "c = 0\n",
    "for key in enron_data:\n",
    "    item = enron_data[key]\n",
    "    if item[\"poi] == 1:\n",
    "        c = c +1\n",
    "print c\n",
    "'''"
   ]
  },
  {
   "cell_type": "code",
   "execution_count": 8,
   "metadata": {
    "collapsed": true
   },
   "outputs": [],
   "source": [
    "##access data "
   ]
  },
  {
   "cell_type": "code",
   "execution_count": 9,
   "metadata": {
    "collapsed": true
   },
   "outputs": [],
   "source": [
    "### enron_data['LASTINAME FIRSTANME]['feature name ']\n"
   ]
  },
  {
   "cell_type": "code",
   "execution_count": 10,
   "metadata": {
    "collapsed": true
   },
   "outputs": [],
   "source": [
    "# how many POIS were there total?"
   ]
  },
  {
   "cell_type": "code",
   "execution_count": 11,
   "metadata": {
    "collapsed": true
   },
   "outputs": [],
   "source": [
    "# What might be a problem with having some POIS missing from our dataset ?"
   ]
  },
  {
   "cell_type": "code",
   "execution_count": 12,
   "metadata": {},
   "outputs": [
    {
     "data": {
      "text/plain": [
       "\"\\nThere are a few things you could say here, but our main thought is about having enought data to really learn the\\npatterns . In general, more data is always better === only 18 data points doesn't gibe you that many examples to\\nlearn from .\\n\""
      ]
     },
     "execution_count": 12,
     "metadata": {},
     "output_type": "execute_result"
    }
   ],
   "source": [
    "'''\n",
    "There are a few things you could say here, but our main thought is about having enought data to really learn the\n",
    "patterns . In general, more data is always better === only 18 data points doesn't gibe you that many examples to\n",
    "learn from .\n",
    "'''"
   ]
  },
  {
   "cell_type": "code",
   "execution_count": 13,
   "metadata": {
    "collapsed": true
   },
   "outputs": [],
   "source": [
    "# what is the total value of the stock belonging to james Prentice ?"
   ]
  },
  {
   "cell_type": "code",
   "execution_count": 14,
   "metadata": {
    "collapsed": true
   },
   "outputs": [],
   "source": [
    "# print enron_data['PRENITICE JAMES']['total_stock_value']"
   ]
  },
  {
   "cell_type": "code",
   "execution_count": 15,
   "metadata": {
    "collapsed": true
   },
   "outputs": [],
   "source": [
    "# enron_data['PRENITICE JAMES']['totoal_staock_value']\n",
    "# print enron_data['COLWELL WESLEY']['from_this_person_to_poi']\n",
    "# enron_data['SKILLING JEFFERY K\"]['exercised_stock_options]\n"
   ]
  },
  {
   "cell_type": "code",
   "execution_count": 16,
   "metadata": {
    "collapsed": true
   },
   "outputs": [],
   "source": [
    "# how many messages do we have from Wesley COlwell to POIS?"
   ]
  },
  {
   "cell_type": "code",
   "execution_count": 17,
   "metadata": {
    "collapsed": true
   },
   "outputs": [],
   "source": [
    "# which of these schemes was Enron NOT involved in ?\n"
   ]
  },
  {
   "cell_type": "code",
   "execution_count": 18,
   "metadata": {},
   "outputs": [
    {
     "data": {
      "text/plain": [
       "'\\nfor key in [\"LAY\", \"K\", \"P:]:\\n\\n    tps=enron[key][\"total_payments\"]\\n    print key, tps\\n    \\n'"
      ]
     },
     "execution_count": 18,
     "metadata": {},
     "output_type": "execute_result"
    }
   ],
   "source": [
    "'''\n",
    "for key in [\"LAY\", \"K\", \"P:]:\n",
    "\n",
    "    tps=enron[key][\"total_payments\"]\n",
    "    print key, tps\n",
    "    \n",
    "'''"
   ]
  },
  {
   "cell_type": "code",
   "execution_count": 19,
   "metadata": {
    "collapsed": true
   },
   "outputs": [],
   "source": [
    "# Hos is an unfilled featuren denoted ?"
   ]
  },
  {
   "cell_type": "code",
   "execution_count": 20,
   "metadata": {
    "collapsed": true
   },
   "outputs": [],
   "source": [
    "# How manay folks in this dataset have a quantitied salary ? Know emial address?\n",
    "# featureFormat() targetFeatureSplic())\n",
    "\n",
    "# what percentaget of people in the dataset have 'NAN' for their total payments?\n"
   ]
  },
  {
   "cell_type": "code",
   "execution_count": null,
   "metadata": {
    "collapsed": true
   },
   "outputs": [],
   "source": [
    "'''\n",
    "salary_num, emial_num=0, 0\n",
    "for key in enron_data:\n",
    "    item = enron_data[key]\n",
    "    if item['salary']!=\"NaN\"\n",
    "        salary_num = salary_num +1\n",
    "    if item[\"email_address\"] != \"NAN\":\n",
    "        email_num = email_num+1\n",
    "        \n",
    "        \n",
    "        \n",
    "poi_payments_num, poi_number=0, 0\n",
    "\n",
    "for key in enron_data:\n",
    "    if enron_data[key]['poi'] == True:\n",
    "        poi_number = poi_number + 1\n",
    "        if enron_datra[key][\"total_payments\"] == \"NAN\":\n",
    "            poi_payments_num = poi_payments_num +1\n",
    "            \n",
    "pickle.dump(obj, open(\"tmp.txt))\n",
    "obj2 = pickle.load(open('tmp.txt', 'r'))\n",
    "\n",
    "            \n",
    "'''"
   ]
  }
 ],
 "metadata": {
  "kernelspec": {
   "display_name": "Python 3",
   "language": "python",
   "name": "python3"
  },
  "language_info": {
   "codemirror_mode": {
    "name": "ipython",
    "version": 3
   },
   "file_extension": ".py",
   "mimetype": "text/x-python",
   "name": "python",
   "nbconvert_exporter": "python",
   "pygments_lexer": "ipython3",
   "version": "3.6.1"
  }
 },
 "nbformat": 4,
 "nbformat_minor": 2
}
