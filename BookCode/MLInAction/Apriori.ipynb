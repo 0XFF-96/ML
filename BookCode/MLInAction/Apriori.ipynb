{
 "cells": [
  {
   "cell_type": "code",
   "execution_count": 1,
   "metadata": {
    "collapsed": true
   },
   "outputs": [],
   "source": []
  },
  {
   "cell_type": "markdown",
   "metadata": {},
   "source": [
    "## concept\n",
    "* you can generate all the permutation of the obective...but it will cost you a lost .\n",
    "* how to redece the compexity of compution , when you implementing XXX Model ?\n",
    "\n",
    "## Apriori\n",
    "* frequent item sets \n",
    "* associational rules \n",
    "\n",
    "## term \n",
    "* association analysis\n",
    "* association rule learning \n",
    "\n",
    "## key point : how to quanitify it ?\n",
    "\n",
    "* but also factors that are far harder to quantify , like dignity and security "
   ]
  },
  {
   "cell_type": "code",
   "execution_count": 2,
   "metadata": {
    "collapsed": true
   },
   "outputs": [],
   "source": [
    "def loadDataSet():\n",
    "    return [[1, 3, 4], [2, 3, 5, ], [1, 2, 3, 5, ], [2, 5]]"
   ]
  },
  {
   "cell_type": "code",
   "execution_count": 3,
   "metadata": {
    "collapsed": true
   },
   "outputs": [],
   "source": [
    "# create set C1, unique dataSet, sort , push in lsit , and converty all the factor to fronzenset "
   ]
  },
  {
   "cell_type": "code",
   "execution_count": 6,
   "metadata": {},
   "outputs": [],
   "source": [
    "def createC1(dataSet):\n",
    "    \n",
    "    '''\n",
    "    frozenset list \n",
    "    \n",
    "    '''\n",
    "    C1 = []\n",
    "    \n",
    "    for transaction in dataSet:\n",
    "        for item in transaction:\n",
    "            if not [item] in C1:\n",
    "                C1.append([item])\n",
    "    \n",
    "    print ('sort', C1)\n",
    "    C1.sort()\n",
    "    \n",
    "    print ('sort', C1)\n",
    "    print ('frozenset=', map(forzenst, C1))\n",
    "    \n",
    "    return map(forzentset, C1)"
   ]
  },
  {
   "cell_type": "code",
   "execution_count": 7,
   "metadata": {
    "collapsed": true
   },
   "outputs": [],
   "source": [
    "def scanD(D, Ck, minSupport):\n",
    "    \n",
    "    ssCnt = {}\n",
    "    for tid in D:\n",
    "        for can in Ck:\n",
    "            \n",
    "            if cna.issubset(tid):\n",
    "                if not ssCnt.has_key(can):\n",
    "                    ssCnt[can] = 1\n",
    "                else:\n",
    "                    ssCnt[can] += 1\n",
    "    numItems = float(len(D))\n",
    "    \n",
    "    retList = []\n",
    "    supportData = {}\n",
    "    for key in ssCnt:\n",
    "        \n",
    "        support = ssCnt[key] / numItems\n",
    "        \n",
    "        if support >= minSupport :\n",
    "            retList.insert(0, key)\n",
    "            \n",
    "        supportData[key] = support \n",
    "    return retList, supportData\n"
   ]
  },
  {
   "cell_type": "code",
   "execution_count": 10,
   "metadata": {},
   "outputs": [],
   "source": [
    "def aprioriGen(Lk, k):\n",
    "    \n",
    "    retList = []\n",
    "    lenLK = len(LK)\n",
    "    \n",
    "    for i in range(lenLK):\n",
    "        for j in range(i+1, lenLK):\n",
    "            L1 = list(LK[i])[:k-2]\n",
    "            L2 = list(LK[j])[:k-2]\n",
    "            \n",
    "        if L1 == L2:\n",
    "            #Set union\n",
    "            #print 'union=', LK[i] | LK[j] , LK[i], Lk[j]\n",
    "            \n",
    "            retList.append(LK[i] | Lk[j])\n",
    "            \n",
    "    return retList "
   ]
  },
  {
   "cell_type": "code",
   "execution_count": 15,
   "metadata": {},
   "outputs": [],
   "source": [
    "def apriori(dataSet, minSupport=0.5):\n",
    "    \n",
    "    C1 = createC1(dataSet)\n",
    "    D = map(set, dataSet)\n",
    "    \n",
    "    print ('D=', D)\n",
    "    \n",
    "    L1, supportData = scanD(D, C1, minSupport)\n",
    "    L = [L1]\n",
    "    K = 2\n",
    "    \n",
    "    while (len(L[k-2]) > 0 ):\n",
    "        \n",
    "        print ('k=', K, L, L[k-2])\n",
    "        Ck = aprioriGen(L[k-2], k) \n",
    "        print ('Ck', Ck)\n",
    "        \n",
    "        Lk, supK = scanD(D, Ck, minSupport)\n",
    "        supportData.update(supK)\n",
    "        \n",
    "        if len(Lk) == 0:\n",
    "            break \n",
    "            \n",
    "        L.append(LK)\n",
    "        k += 1\n",
    "        \n",
    "        #print 'k=', k, len(L[k-2])\n",
    "        \n",
    "    return L, supportData \n"
   ]
  },
  {
   "cell_type": "code",
   "execution_count": 18,
   "metadata": {},
   "outputs": [],
   "source": [
    "def calcConf(freqSet, H, \n",
    "                supportData, brl, minConf=0.7):\n",
    "    '''\n",
    "    Args:\n",
    "        freqSet  , frozenset([1, 3])\n",
    "        H  \n",
    "        supportData \n",
    "        brl \n",
    "        minCOnf\n",
    "    Returns:\n",
    "        prunedH \n",
    "        \n",
    "    '''\n",
    "    \n",
    "    prunedH = []\n",
    "    \n",
    "    for conseq in H:\n",
    "        # freqSet = frozenset([1, 3]), H = [forzenset([1]), forzengset]\n",
    "        \n",
    "        conf = supportData[freqSet]/ supportData[freqSet - conseq]\n",
    "        if conf >= minCOnf:\n",
    "            print (freqSet - conseq , conseq )\n",
    "            brl.append((freqSet-conseq, conseq, conf))\n",
    "            \n",
    "            prunedH.append(conseq)\n",
    "            \n",
    "    return prunedH \n"
   ]
  },
  {
   "cell_type": "code",
   "execution_count": 23,
   "metadata": {},
   "outputs": [],
   "source": [
    "def rulesFromConseq(freqSet, H, supportData, brl, minConf=0.7):\n",
    "    '''\n",
    "        rulesFromConseq \n",
    "        \n",
    "        Args:\n",
    "            freqSet \n",
    "            H \n",
    "            supportData \n",
    "            brl \n",
    "            minConf \n",
    "            \n",
    "    '''\n",
    "    m = len(H[0])\n",
    "    if (len(freqSet) > (m + 1)):\n",
    "        print ('freqSet *******', len(freqSet), m + 1, freqSet, H, H[0])\n",
    "        \n",
    "        Hmp1 = apprioriGen(H, m+1)\n",
    "        print ('Hmp1=1', Hmp1)\n",
    "        print ('len(Hmp1 ) = , ', len(Hmp1), 'len(freqSet) = ', len(freqSet))\n",
    "        \n",
    "        if (len(Hmp1) > 1):\n",
    "            print ('---------', Hmp1)\n",
    "            # print len(freqSet), len(Hmp1[0]) + 1\n",
    "            \n",
    "            rulesFormConseq(freqSet, Hmp1, supportData, brl, minCOnf)\n",
    "            "
   ]
  },
  {
   "cell_type": "code",
   "execution_count": 24,
   "metadata": {
    "collapsed": true
   },
   "outputs": [],
   "source": [
    "def generateRUles(L, supportData, minConf=0.7):\n",
    "    '''\n",
    "    generateRules\n",
    "    Args:\n",
    "        L \n",
    "        SupportData\n",
    "        minConf\n",
    "    Retures:\n",
    "        bigRuleList\n",
    "        \n",
    "    '''\n",
    "    \n",
    "    bigRuleList = []\n",
    "    \n",
    "    for i in range(1, len(L)):\n",
    "        for freqSet in L[i]:\n",
    "            H1 = [forzenset[item] for item in freqSet ]\n",
    "            \n",
    "            if (i > 1):\n",
    "                rulesFromConseq(freqSet, H1, supportData, bigRuleList, minConf)\n",
    "            else:\n",
    "                calcConf(freqSet, H1, supportData, bigRuleList, minConf)\n",
    "                \n",
    "    return bigRuleList "
   ]
  },
  {
   "cell_type": "code",
   "execution_count": null,
   "metadata": {
    "collapsed": true
   },
   "outputs": [],
   "source": []
  }
 ],
 "metadata": {
  "kernelspec": {
   "display_name": "Python 3",
   "language": "python",
   "name": "python3"
  },
  "language_info": {
   "codemirror_mode": {
    "name": "ipython",
    "version": 3
   },
   "file_extension": ".py",
   "mimetype": "text/x-python",
   "name": "python",
   "nbconvert_exporter": "python",
   "pygments_lexer": "ipython3",
   "version": "3.6.1"
  }
 },
 "nbformat": 4,
 "nbformat_minor": 2
}
