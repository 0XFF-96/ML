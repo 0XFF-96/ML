{
 "cells": [
  {
   "cell_type": "code",
   "execution_count": 1,
   "metadata": {
    "collapsed": true
   },
   "outputs": [],
   "source": [
    "# What cause outlier ?\n"
   ]
  },
  {
   "cell_type": "code",
   "execution_count": 2,
   "metadata": {},
   "outputs": [
    {
     "data": {
      "text/plain": [
       "'\\nfor point in data:\\n    salary = point[0]\\n    bonus = point[0]\\n    matplotlib.pyplot.scatter(salary, bonus)\\n    \\nmatplotlib.pyplot.xlabel(\"salary\")\\nmatplotlib.pyplot.ylabel(\"bonus\")\\nmatplotlib.pyplot.show()\\n\\ndictionary.pop(key, 0)\\n\\n\\n'"
      ]
     },
     "execution_count": 2,
     "metadata": {},
     "output_type": "execute_result"
    }
   ],
   "source": [
    "\n",
    "'''\n",
    "for point in data:\n",
    "    salary = point[0]\n",
    "    bonus = point[0]\n",
    "    matplotlib.pyplot.scatter(salary, bonus)\n",
    "    \n",
    "matplotlib.pyplot.xlabel(\"salary\")\n",
    "matplotlib.pyplot.ylabel(\"bonus\")\n",
    "matplotlib.pyplot.show()\n",
    "\n",
    "dictionary.pop(key, 0)\n",
    "\n",
    "\n",
    "'''"
   ]
  },
  {
   "cell_type": "code",
   "execution_count": 1,
   "metadata": {},
   "outputs": [
    {
     "data": {
      "text/plain": [
       "'\\nSkeleton code for k-means clustering mini-project\\n'"
      ]
     },
     "execution_count": 1,
     "metadata": {},
     "output_type": "execute_result"
    }
   ],
   "source": [
    "'''\n",
    "Skeleton code for k-means clustering mini-project\n",
    "'''"
   ]
  },
  {
   "cell_type": "code",
   "execution_count": 1,
   "metadata": {},
   "outputs": [
    {
     "data": {
      "text/plain": [
       "'\\nimport pickle\\nimport numpy\\nimport matplotlib.pyplot as plt\\nimport sys\\nsys.path.append()\\nfrom featrue_format import featureFormat, targetFeatrueSplit\\n'"
      ]
     },
     "execution_count": 1,
     "metadata": {},
     "output_type": "execute_result"
    }
   ],
   "source": [
    "'''\n",
    "import pickle\n",
    "import numpy\n",
    "import matplotlib.pyplot as plt\n",
    "import sys\n",
    "sys.path.append()\n",
    "from featrue_format import featureFormat, targetFeatrueSplit\n",
    "'''"
   ]
  },
  {
   "cell_type": "code",
   "execution_count": 2,
   "metadata": {},
   "outputs": [
    {
     "data": {
      "text/plain": [
       "'\\ndef Draw(pred, featrues, poi, mark_poi=Fasle, name=\"image.png\", fl_name=\"featrue 1\", f2_name=\"feature 2\"):\\n\\n    \"\"\" some plotting code designed to help you vbisualize your clusters\"\"\"\\n    \\n    ### plot each cluster with a different color -- add more colors for \\n    ### drawing more than five clusters\\n    \\n    colors = [\"b\", \"c\", \"k\", \"m\", \"g\"]\\n    \\n    for ii, pp in enumerate(pred):\\n        plt.scatter(featrues[ii][0], features[ii][1], color = colors[pred[ii]])\\n        \\n    ### if you like , place red starts over points that are PIOS (just for funsies)\\n    \\n    if mark_poi:\\n        for ii, pp in enumerate(pred):\\n            if poi[ii]:\\n                plt.scatter(features[ii][0], featuers[ii][1], color=\"r\", marker=\"*\")\\n                \\n    plt.xlabel(fl_name)\\n    plt.ylabel(f2_name)\\n    plt.savefig(name)\\n    plt.show()\\n    \\n    \\n\\n\\n\\n\\n'"
      ]
     },
     "execution_count": 2,
     "metadata": {},
     "output_type": "execute_result"
    }
   ],
   "source": [
    "'''\n",
    "def Draw(pred, featrues, poi, mark_poi=Fasle, name=\"image.png\", fl_name=\"featrue 1\", f2_name=\"feature 2\"):\n",
    "\n",
    "    \"\"\" some plotting code designed to help you vbisualize your clusters\"\"\"\n",
    "    \n",
    "    ### plot each cluster with a different color -- add more colors for \n",
    "    ### drawing more than five clusters\n",
    "    \n",
    "    colors = [\"b\", \"c\", \"k\", \"m\", \"g\"]\n",
    "    \n",
    "    for ii, pp in enumerate(pred):\n",
    "        plt.scatter(featrues[ii][0], features[ii][1], color = colors[pred[ii]])\n",
    "        \n",
    "    ### if you like , place red starts over points that are PIOS (just for funsies)\n",
    "    \n",
    "    if mark_poi:\n",
    "        for ii, pp in enumerate(pred):\n",
    "            if poi[ii]:\n",
    "                plt.scatter(features[ii][0], featuers[ii][1], color=\"r\", marker=\"*\")\n",
    "                \n",
    "    plt.xlabel(fl_name)\n",
    "    plt.ylabel(f2_name)\n",
    "    plt.savefig(name)\n",
    "    plt.show()\n",
    "    \n",
    "    \n",
    "\n",
    "\n",
    "\n",
    "\n",
    "'''"
   ]
  },
  {
   "cell_type": "code",
   "execution_count": 4,
   "metadata": {},
   "outputs": [],
   "source": [
    "### load in the dict of dicts containing all the data on each person in the dataset\n",
    "\n",
    "# data_dict = pickle.load(open(\"../final_project/final_project_dataset.pkl\"), \"r\")\n",
    "# data_dict.pop(\"TOTAL\", 0)\n"
   ]
  },
  {
   "cell_type": "code",
   "execution_count": 7,
   "metadata": {},
   "outputs": [
    {
     "data": {
      "text/plain": [
       "'\\npoi = \"poi\"\\nfeatures_list = [poi, feature_1, feature_2]\\npoi = \"poi\"\\n\\nfeature_list = [poi, feature_1, feature_2]\\ndata = featureFormat(data_dict, features_list)\\npoi, finance_features = targetFeatureSplit( data )\\n\\n\\n### in the \"clustering with 3 features \" part of the mini-project, \\n### you\\'ll want to change this line to\\n### for f1, f2, _ in finace_featrues:\\n### (as it\\'s currently writtern, the line below assume 2 features)\\n\\nfor f1, f2 in finance_features:\\n    plt.scatter(f1, f2)\\n    \\nplt.show()\\n\\n\\n### rename the \"name\" parameter when you change the number of features\\n### so theat the figure gets saved to a different file \\n\\ntry:\\n    Draw(pred, finace_features, poi, mark_poi=False, name=\"clusters.pdf\", fl_name=feature_1, f2_name=feature_2)\\n    \\nexcept NameError:\\n\\n    print \"no predictions object name pred found, no clusters to plot \"\\n    \\n\\n'"
      ]
     },
     "execution_count": 7,
     "metadata": {},
     "output_type": "execute_result"
    }
   ],
   "source": [
    "### the input features we want to user\n",
    "### can be any key in the person-level dictionary (salary, director_fees, etc.)\n",
    "\n",
    "# feature_1 = \"salary\"\n",
    "# feature_2 = \"exercised_stock_options\"\n",
    "\n",
    "'''\n",
    "poi = \"poi\"\n",
    "features_list = [poi, feature_1, feature_2]\n",
    "poi = \"poi\"\n",
    "\n",
    "feature_list = [poi, feature_1, feature_2]\n",
    "data = featureFormat(data_dict, features_list)\n",
    "poi, finance_features = targetFeatureSplit( data )\n",
    "\n",
    "\n",
    "### in the \"clustering with 3 features \" part of the mini-project, \n",
    "### you'll want to change this line to\n",
    "### for f1, f2, _ in finace_featrues:\n",
    "### (as it's currently writtern, the line below assume 2 features)\n",
    "\n",
    "for f1, f2 in finance_features:\n",
    "    plt.scatter(f1, f2)\n",
    "    \n",
    "plt.show()\n",
    "\n",
    "\n",
    "### rename the \"name\" parameter when you change the number of features\n",
    "### so theat the figure gets saved to a different file \n",
    "\n",
    "try:\n",
    "    Draw(pred, finace_features, poi, mark_poi=False, name=\"clusters.pdf\", fl_name=feature_1, f2_name=feature_2)\n",
    "    \n",
    "except NameError:\n",
    "\n",
    "    print \"no predictions object name pred found, no clusters to plot \"\n",
    "    \n",
    "\n",
    "'''"
   ]
  },
  {
   "cell_type": "code",
   "execution_count": null,
   "metadata": {
    "collapsed": true
   },
   "outputs": [],
   "source": []
  }
 ],
 "metadata": {
  "kernelspec": {
   "display_name": "Python 3",
   "language": "python",
   "name": "python3"
  },
  "language_info": {
   "codemirror_mode": {
    "name": "ipython",
    "version": 3
   },
   "file_extension": ".py",
   "mimetype": "text/x-python",
   "name": "python",
   "nbconvert_exporter": "python",
   "pygments_lexer": "ipython3",
   "version": "3.6.1"
  }
 },
 "nbformat": 4,
 "nbformat_minor": 2
}
