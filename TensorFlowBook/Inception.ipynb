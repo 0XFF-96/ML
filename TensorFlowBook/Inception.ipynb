{
 "cells": [
  {
   "cell_type": "code",
   "execution_count": 1,
   "metadata": {
    "collapsed": true
   },
   "outputs": [],
   "source": [
    "import tensorflow as tf\n",
    "slim = tf.contrib.slim \n",
    "truc_normal = lambda stddev: tf.trucated_normal_initializer(0.0, stddev)\n"
   ]
  },
  {
   "cell_type": "code",
   "execution_count": 11,
   "metadata": {},
   "outputs": [],
   "source": [
    "def inception_v3_arg_scope(weight_decay=0.00004, \n",
    "                            tddev=0.1, \n",
    "                            batch_norm_var_collection='moving_vars'):\n",
    "    batch_norm_params = {\n",
    "        'decay' : 0.997,\n",
    "        'epslion' : 0.001, \n",
    "        'updates_collections' : tf.GraphKeys.UPDATE_OPS, \n",
    "        'varibles_collections' : {\n",
    "            'beta': None,\n",
    "            'gamma': None, \n",
    "            'moving_mean' : [batch_norm_var_collection], \n",
    "            'moving_variance' : [batch_norm_var_collection], \n",
    "        }\n",
    "    }\n",
    "    "
   ]
  },
  {
   "cell_type": "code",
   "execution_count": 13,
   "metadata": {
    "collapsed": true
   },
   "outputs": [],
   "source": [
    "def inception_v3_base(inputs, scope=None):\n",
    "    \n",
    "    end_points = {}\n",
    "    with tf.variable_scope(scope, 'Inceptionv3', [inputs]):\n",
    "        with slim.arg([slim.conv2d, slim.max_pool2d, slim.avg_pool2d], \n",
    "                     stride=1, padding='VALID'):\n",
    "            net = slim.conv2d(inputs, 32, [3, 3], sttide=2, scope='Conv2d_1a_3x3')\n",
    "            net = slim.conv2d(net, 32, [3, 3], scope='conv2d_2a_3x3')\n",
    "            \n",
    "            net = slim.conv2d(net, 64, [3, 3], padding='SAME', \n",
    "                                 scope='Conv2d_2b_3x3')\n",
    "            net = slim.max_pool2d(net, [3, 3], stride=2, scope='MaxPool_3a_3x3')\n",
    "            net = slim.conv2d(net, 80, [1, 1], scope='Conv2d_3b_1x1')\n",
    "            net = slim.conv2d(net, 192, [3, 3], scope='Conv2d_4a_3x3')\n",
    "            net = slim.max_pool2d(net, [3, 3], stride=2, scope='MaxPool_5a_3x3')\n",
    "            \n",
    "            "
   ]
  },
  {
   "cell_type": "code",
   "execution_count": null,
   "metadata": {
    "collapsed": true
   },
   "outputs": [],
   "source": []
  }
 ],
 "metadata": {
  "kernelspec": {
   "display_name": "Python 3",
   "language": "python",
   "name": "python3"
  },
  "language_info": {
   "codemirror_mode": {
    "name": "ipython",
    "version": 3
   },
   "file_extension": ".py",
   "mimetype": "text/x-python",
   "name": "python",
   "nbconvert_exporter": "python",
   "pygments_lexer": "ipython3",
   "version": "3.6.1"
  }
 },
 "nbformat": 4,
 "nbformat_minor": 2
}
