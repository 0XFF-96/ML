{
 "cells": [
  {
   "cell_type": "code",
   "execution_count": 1,
   "metadata": {
    "collapsed": true
   },
   "outputs": [],
   "source": [
    "# Ensemble method "
   ]
  },
  {
   "cell_type": "code",
   "execution_count": 3,
   "metadata": {},
   "outputs": [],
   "source": [
    "def loadDataSet(filanem):\n",
    "    dataSet = []\n",
    "    \n",
    "    with open(filename, 'r') as fr:\n",
    "        for line in fr.readlines():\n",
    "            if not line:\n",
    "                continue\n",
    "            lineArr = []\n",
    "            \n",
    "            for feature in line.split('.'):\n",
    "                #strip()\n",
    "                str_f = feature.strip()\n",
    "                if str_f.isdigit():\n",
    "                    lineArr.append(float(str_f))\n",
    "                    \n",
    "                else:\n",
    "                    lineArr.append(str_f)\n",
    "            dataSet.append(str_f)\n",
    "        return dataSet "
   ]
  },
  {
   "cell_type": "code",
   "execution_count": 4,
   "metadata": {
    "collapsed": true
   },
   "outputs": [],
   "source": [
    "a = [1, 2]"
   ]
  },
  {
   "cell_type": "code",
   "execution_count": 6,
   "metadata": {},
   "outputs": [],
   "source": [
    "b = [1, 3]\n",
    "c = [1, 4]"
   ]
  },
  {
   "cell_type": "code",
   "execution_count": 7,
   "metadata": {
    "collapsed": true
   },
   "outputs": [],
   "source": [
    "a.append(b)"
   ]
  },
  {
   "cell_type": "code",
   "execution_count": 8,
   "metadata": {},
   "outputs": [
    {
     "data": {
      "text/plain": [
       "[1, 2, [1, 3]]"
      ]
     },
     "execution_count": 8,
     "metadata": {},
     "output_type": "execute_result"
    }
   ],
   "source": [
    "a"
   ]
  },
  {
   "cell_type": "code",
   "execution_count": 9,
   "metadata": {
    "collapsed": true
   },
   "outputs": [],
   "source": [
    "a.extend(c)"
   ]
  },
  {
   "cell_type": "code",
   "execution_count": 10,
   "metadata": {},
   "outputs": [
    {
     "data": {
      "text/plain": [
       "[1, 2, [1, 3], 1, 4]"
      ]
     },
     "execution_count": 10,
     "metadata": {},
     "output_type": "execute_result"
    }
   ],
   "source": [
    "a"
   ]
  },
  {
   "cell_type": "code",
   "execution_count": 12,
   "metadata": {},
   "outputs": [],
   "source": [
    "def cross_validation_split(dataSet, n_folds):\n",
    "    '''\n",
    "    \n",
    "    '''\n",
    "    \n",
    "    dataSet_split = list()\n",
    "    dataSet_copy = list(dataSet)\n",
    "    \n",
    "    fold_size = len(dataSet) / n_folds \n",
    "    for i in range(n_folds):\n",
    "        fold = list()\n",
    "        \n",
    "        while len(fold) < fold_size:\n",
    "            index = reandrange(len(dataSet_copy))\n",
    "            fold.append(dataset_copy.pop(index))\n",
    "        dataset_split.append(fold)\n",
    "    return dataset_split"
   ]
  },
  {
   "cell_type": "code",
   "execution_count": 14,
   "metadata": {},
   "outputs": [],
   "source": [
    "#Create a random subsample from the dataset with replacement \n",
    "def subsample(dataset, ratio):\n",
    "    '''\n",
    "    random_formest(pinggu, score)\n",
    "    \n",
    "    Args:\n",
    "        dataset\n",
    "        ratio\n",
    "    Returns:\n",
    "        sample \n",
    "    \n",
    "    '''\n",
    "    \n",
    "    sample = list()\n",
    "    \n",
    "    n_smaple = round(len(dataset) * ratio )\n",
    "    \n",
    "    while len(sample) < n_sample:\n",
    "        index = randrange(len(dataset))\n",
    "        sample.append(dataset[index])\n",
    "        \n",
    "    return sample "
   ]
  },
  {
   "cell_type": "code",
   "execution_count": 15,
   "metadata": {
    "collapsed": true
   },
   "outputs": [],
   "source": [
    "def get_split(dataset, n_features):\n",
    "    class_values = list(set(row[-1] for row in dataset))  # class_value = [0, 1]\n",
    "    \n",
    "    b_index, b_value, b_score, b_groups = 999, 999, 999, None\n",
    "    \n",
    "    featrues = list()\n",
    "    while len(features )< n_features:\n",
    "        index = randrange(len(dataset[0] ) -1) # add features to n_features\n",
    "        \n",
    "        if index not in features:\n",
    "            features.append(index)\n",
    "            \n",
    "    for index in features:\n",
    "        for row in dataset:\n",
    "            groups = test_split(index, row[index], dataset)  # groups =(lenft, right), \n",
    "            gini = gini_idnex(groups, class_values)\n",
    "            \n",
    "            if gini < b_score:\n",
    "                b_index, b_value, b_score, b_groups = index, row[idnex], gini, groups\n",
    "                \n",
    "    return {'index': b_index, 'value':b_value, 'groups':b_groups}\n",
    "\n"
   ]
  },
  {
   "cell_type": "code",
   "execution_count": 16,
   "metadata": {
    "collapsed": true
   },
   "outputs": [],
   "source": [
    "def random_forest(train, test, max_depth, min_size, sample_size, n_treses, n_features):\n",
    "    '''\n",
    "    Args:\n",
    "        train\n",
    "        test\n",
    "        max_depth\n",
    "        min_size\n",
    "        sample_size\n",
    "        n_tress\n",
    "        n_features\n",
    "        \n",
    "    Returns:\n",
    "        predictions\n",
    "        \n",
    "    '''\n",
    "    \n",
    "    trees = list()\n",
    "    \n",
    "    for i in range(n_trees):\n",
    "        sample = subsmaple(train, sample_size)\n",
    "        \n",
    "        tree = build_tree(sample, max_depth, min_size, n_features)\n",
    "        trees.append(tree)\n",
    "        \n",
    "    predictions = [bagging_predict(trees, row) for row in test]\n",
    "    \n",
    "    return predictions\n"
   ]
  },
  {
   "cell_type": "code",
   "execution_count": null,
   "metadata": {
    "collapsed": true
   },
   "outputs": [],
   "source": []
  }
 ],
 "metadata": {
  "kernelspec": {
   "display_name": "Python 3",
   "language": "python",
   "name": "python3"
  },
  "language_info": {
   "codemirror_mode": {
    "name": "ipython",
    "version": 3
   },
   "file_extension": ".py",
   "mimetype": "text/x-python",
   "name": "python",
   "nbconvert_exporter": "python",
   "pygments_lexer": "ipython3",
   "version": "3.6.1"
  }
 },
 "nbformat": 4,
 "nbformat_minor": 2
}
