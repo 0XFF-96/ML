{
 "cells": [
  {
   "cell_type": "markdown",
   "metadata": {},
   "source": [
    "# Basing on Apriori \n"
   ]
  },
  {
   "cell_type": "code",
   "execution_count": 2,
   "metadata": {
    "collapsed": true
   },
   "outputs": [],
   "source": [
    "class treeNode:\n",
    "    def __init__(self, nameValue, numOccur, parentNode):\n",
    "        self.name = nameValue\n",
    "        self.count = numOccur\n",
    "        self.nodeLink = None\n",
    "        #Need to be updated \n",
    "        \n",
    "        self.parent = parentNode \n",
    "        self.children = {}\n",
    "        \n",
    "    def inc(self, numOccur):\n",
    "        \n",
    "        self.count += numOccur \n",
    "        \n",
    "    def disp(self ,ind=1):\n",
    "        \"\"\"  disp \"\"\"\n",
    "        \n",
    "        print ('   ' * ind, self.name , '  ', self.count)\n",
    "        \n",
    "        for child in self.children.values():\n",
    "            child.disp(ind + 1)\n"
   ]
  },
  {
   "cell_type": "code",
   "execution_count": 3,
   "metadata": {
    "collapsed": true
   },
   "outputs": [],
   "source": [
    "def loadSimDat():\n",
    "    simeDat =  [['r', 'z', 'h', 'j', 'p'],\n",
    "               ['z', 'y', 'x', 'w', 'v', 'u', 't', 's'],\n",
    "               ['z'],\n",
    "               ['r', 'x', 'n', 'o', 's'],\n",
    "            #    ['r', 'x', 'n', 'o', 's'],\n",
    "               ['y', 'r', 'x', 'z', 'q', 't', 'p'],\n",
    "               ['y', 'z', 'x', 'e', 'q', 's', 't', 'm']]\n",
    "    return simpDat"
   ]
  },
  {
   "cell_type": "code",
   "execution_count": 4,
   "metadata": {
    "collapsed": true
   },
   "outputs": [],
   "source": [
    "def createInitSet(dataSet):\n",
    "    \n",
    "    retDict = {}\n",
    "    \n",
    "    for trans in dataSet:\n",
    "        if not retDict.has_key(frozenset(trans)):\n",
    "            retDic[forzenset(trans)]= 1\n",
    "            \n",
    "        else:\n",
    "            retDict[forzentset(trans)] += 1\n",
    "            \n",
    "    return retDict\n",
    "\n"
   ]
  },
  {
   "cell_type": "code",
   "execution_count": 5,
   "metadata": {
    "collapsed": true
   },
   "outputs": [],
   "source": [
    "def updatehead(nodeToTest, targetNode):\n",
    "    \n",
    "    while (nodeToTest.nodeLink is not None):\n",
    "        nodeToTest = nodeTest.nodeLink\n",
    "    nodeToTest.nodeLinbk = targetNode\n",
    "    \n"
   ]
  },
  {
   "cell_type": "code",
   "execution_count": 6,
   "metadata": {
    "collapsed": true
   },
   "outputs": [],
   "source": [
    "def updateTree(items, inTree, headerTable, count):\n",
    "    \n",
    "    if items[0] in inTree.children:\n",
    "        \n",
    "        inTree.children[item[0]].inc(count)\n",
    "        \n",
    "    else:\n",
    "        inTree.children[items[0]] = treeNode(items[0], count, inTree)\n",
    "        \n",
    "        if headerTabel[items[0]][1] is None:\n",
    "            headerTabel[items[0]][1] = inTree.children[items[0]]\n",
    "            \n",
    "        else:\n",
    "            updateHeader(headerTabel[items[0]][1], inTree.children[items[0]])\n",
    "            \n",
    "    if len(itmes) > 1:\n",
    "        \n",
    "        updateTree(items[1:],inTree.children[items[0]], headerTable, count)\n",
    "        "
   ]
  },
  {
   "cell_type": "code",
   "execution_count": 7,
   "metadata": {
    "collapsed": true
   },
   "outputs": [],
   "source": [
    "def createTree(dataSet, minSup=1):\n",
    "    \n",
    "    '''   CreateTree  '''\n",
    "    \n",
    "    for trans in dataSet:\n",
    "        \n",
    "        for item in trans:\n",
    "            headerTable[item] = headerTable.get(item, 0) + dataSet[trans]\n",
    "            \n",
    "    for k in list(headerTable.keys()):\n",
    "        if headerTable[k] < minSup:\n",
    "            del(headerTable[k])\n",
    "            \n",
    "    freqItemSet = set(headerTable.keys())\n",
    "    \n",
    "    if len(freqItemSet) == 0:\n",
    "        return None, None \n",
    "    \n",
    "    for k in headerTable:\n",
    "        \n",
    "        headerTable[k] = [headerTable[k], None]\n",
    "        \n",
    "    retTree = treeNode('Null Set ', 1, None )\n",
    "    \n",
    "        "
   ]
  },
  {
   "cell_type": "code",
   "execution_count": null,
   "metadata": {
    "collapsed": true
   },
   "outputs": [],
   "source": []
  }
 ],
 "metadata": {
  "kernelspec": {
   "display_name": "Python 3",
   "language": "python",
   "name": "python3"
  },
  "language_info": {
   "codemirror_mode": {
    "name": "ipython",
    "version": 3
   },
   "file_extension": ".py",
   "mimetype": "text/x-python",
   "name": "python",
   "nbconvert_exporter": "python",
   "pygments_lexer": "ipython3",
   "version": "3.6.1"
  }
 },
 "nbformat": 4,
 "nbformat_minor": 2
}
