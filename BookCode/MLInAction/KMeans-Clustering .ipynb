{
 "cells": [
  {
   "cell_type": "code",
   "execution_count": 1,
   "metadata": {
    "collapsed": true
   },
   "outputs": [],
   "source": [
    "# centroid\n",
    "# K-Means\n",
    "# SSE : Sum of Squared Error\n",
    "\n"
   ]
  },
  {
   "cell_type": "code",
   "execution_count": 2,
   "metadata": {
    "collapsed": true
   },
   "outputs": [],
   "source": [
    "def loadDataSet(fileName):\n",
    "    \n",
    "    deatMat = []\n",
    "    fr = open(fileName)\n",
    "    \n",
    "    for line in fr.readlines():\n",
    "        curLine = line.strip().split('\\t')\n",
    "        fltLine = map(floadt, curLine)\n",
    "        dataMat.append(fltLine)\n",
    "        \n",
    "    return dataMat\n"
   ]
  },
  {
   "cell_type": "code",
   "execution_count": 3,
   "metadata": {
    "collapsed": true
   },
   "outputs": [],
   "source": [
    "def distEculd(vecA, vecB):\n",
    "    \n",
    "    return sqrt(sum(power(vecA - vecB), 2))   #la.norm(vecA - vecB)"
   ]
  },
  {
   "cell_type": "code",
   "execution_count": 4,
   "metadata": {
    "collapsed": true
   },
   "outputs": [],
   "source": [
    "def randCent(dataSet, k):\n",
    "    n = shape(dataSet)[1]\n",
    "    centroids = mat(zeros((k, n)))\n",
    "    \n",
    "    for j in range(n):\n",
    "        minJ = min(dataSet[:, j])\n",
    "        rangeJ = float(mat(dataSet[:, j]) - minJ)\n",
    "        centroids[:, j] = mat(minJ + rangeJ * random.rand(k, 1))\n",
    "        \n",
    "    return centroids\n"
   ]
  },
  {
   "cell_type": "code",
   "execution_count": 9,
   "metadata": {},
   "outputs": [],
   "source": [
    "#K-Means\n",
    "def kMeans(dataSet, k, distMeans=distEculd, createCent=randCent):\n",
    "    \n",
    "    m = shape(dataSet)[0]\n",
    "    clustgerAssment = mat(zeros((m, 2)))\n",
    "    clusterChanged = True \n",
    "    \n",
    "    while clusterChanged:\n",
    "        clusterChanged = False\n",
    "        \n",
    "        for i in range(m):\n",
    "            minDist = inf; minIndex = -1\n",
    "            \n",
    "            for j in range(k):\n",
    "                distJI = distMeas(centroids[j, :], dataSet[i, :])  \n",
    "                if distJI < minDist:\n",
    "                    minDist = distJI ; minIndex = j \n",
    "            if clusterAssment[i, 0] != minIndex:\n",
    "                clusterChanged = True\n",
    "                clusterAssment[i, :] = minIndex, minDist ** 2 \n",
    "                \n",
    "        print (centroids)\n",
    "        for cent in range(k):\n",
    "            ptsInClust = dataSet[nonzero(clusterAssment[:, 0].A == cent)[0]] \n",
    "            centroids[cent, :] = mean(ptsInClust, axis=0)\n",
    "            \n",
    "    return centroids, clusterAssment \n"
   ]
  },
  {
   "cell_type": "code",
   "execution_count": 10,
   "metadata": {},
   "outputs": [
    {
     "ename": "SyntaxError",
     "evalue": "invalid syntax (<ipython-input-10-1123c8a5a662>, line 15)",
     "output_type": "error",
     "traceback": [
      "\u001b[0;36m  File \u001b[0;32m\"<ipython-input-10-1123c8a5a662>\"\u001b[0;36m, line \u001b[0;32m15\u001b[0m\n\u001b[0;31m    ptsInCurrluster = dataSet[nonZero(clusterAssment[:, 0]).A == i][0], :]\u001b[0m\n\u001b[0m                                                                        ^\u001b[0m\n\u001b[0;31mSyntaxError\u001b[0m\u001b[0;31m:\u001b[0m invalid syntax\n"
     ]
    }
   ],
   "source": [
    "def biKeans(dataSet, k, distMeas=distEclud):\n",
    "    m = shape(dataSet)[0]\n",
    "    clusterAssment = mat(zeros((m, 2)))\n",
    "    \n",
    "    centroid0 = mean(dataSet, axis=0).tolist()[0]\n",
    "    centList = [centroid0] \n",
    "    \n",
    "    for j in range(m):\n",
    "        clusterAssment[j, 1] = distMeas(mat(centroid0), dataSet[j, :]) **2 \n",
    "        \n",
    "    while (len(centList) < k ):\n",
    "        lowestSSE = inf \n",
    "        \n",
    "        for i in range(len(centList)):\n",
    "            ptsInCurrluster = dataSet[nonZero(clusterAssment[:, 0]).A == i][0], :]\n",
    "            centroidMat, splitClustAss = kMeans(ptsInCurrCluster, 2, distMeas)\n",
    "            ssseSplit = sum(splitClustAss[:, 1])\n",
    "            sseNotSplit = sum(clusterAssement[nonzero(clusterAssee[:, 0].A!=i)][0], 1)\n",
    "            print (\"sseSplit, and notSplit: \", sseSplit, sseNotSPlit)\n",
    "            \n",
    "            if ( sseSplit + sseNotSPlit ) < lowestSSE:\n",
    "                bestCentToSplit = i \n",
    "                bestNewCents = centroidMat \n",
    "                bestNewCents =centroidMat\n",
    "                lowertSSE = sseSplit + sseNotSplit\n",
    "                \n",
    "        bestCLustAss[nonzero(bestClustAss[:, 0].A == 1 )[0], 0] = len(centList)\n",
    "        bestClustAss[nonzero(bestClustAss[:, 0].A == 0)[0], 0] = bestCentToSplit \n",
    "        \n",
    "        print (\"the bestCentTOSPlit is : \", bestCentToSPlit)\n",
    "        print (\"the len of bestClustAss is :\", len(bestClustAss))\n",
    "        \n",
    "        centList[ bestCentToSplit ] = bestNewCents[0, :].tolist()[0]\n",
    "        centList.append(bestNewCents[1, :].tolist()[0])\n",
    "        clusterAssment[nonzero(clusterAssment[:, 0], A == bestCentToSPlit)[0], :] = bestClustAss\n",
    "        \n",
    "            \n",
    "        return mat(centList), clusterAssment \n",
    "            "
   ]
  },
  {
   "cell_type": "code",
   "execution_count": null,
   "metadata": {
    "collapsed": true
   },
   "outputs": [],
   "source": []
  }
 ],
 "metadata": {
  "kernelspec": {
   "display_name": "Python 3",
   "language": "python",
   "name": "python3"
  },
  "language_info": {
   "codemirror_mode": {
    "name": "ipython",
    "version": 3
   },
   "file_extension": ".py",
   "mimetype": "text/x-python",
   "name": "python",
   "nbconvert_exporter": "python",
   "pygments_lexer": "ipython3",
   "version": "3.6.1"
  }
 },
 "nbformat": 4,
 "nbformat_minor": 2
}
