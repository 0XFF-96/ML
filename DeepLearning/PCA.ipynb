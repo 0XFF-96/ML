{
 "cells": [
  {
   "cell_type": "code",
   "execution_count": 1,
   "metadata": {
    "collapsed": true
   },
   "outputs": [],
   "source": [
    "def replaceNanWithMean():\n",
    "    datMat = loadDataSet('input/13.PCA/secom.data, ', '')\n",
    "    \n",
    "    numFeat = shape(datMat)[1]\n",
    "    \n",
    "    for i in range(numFeat):\n",
    "        \n",
    "        meanVal = mean(datMat[nonzero(~isnan(datMat[:i].A))[0],i])\n",
    "        \n",
    "        datMat[nonzero(isnan(daMat[:, i].A))[0], i] = meanVal\n",
    "        "
   ]
  },
  {
   "cell_type": "code",
   "execution_count": null,
   "metadata": {
    "collapsed": true
   },
   "outputs": [],
   "source": [
    "def pca(dataMat, topNfeat=99999):\n",
    "    \n",
    "    meanVals = mean(dataMat, axis=0)\n",
    "    \n",
    "    meanRemoved = dataMat - meanVals\n",
    "    "
   ]
  }
 ],
 "metadata": {
  "kernelspec": {
   "display_name": "Python 3",
   "language": "python",
   "name": "python3"
  },
  "language_info": {
   "codemirror_mode": {
    "name": "ipython",
    "version": 3
   },
   "file_extension": ".py",
   "mimetype": "text/x-python",
   "name": "python",
   "nbconvert_exporter": "python",
   "pygments_lexer": "ipython3",
   "version": "3.6.1"
  }
 },
 "nbformat": 4,
 "nbformat_minor": 2
}
