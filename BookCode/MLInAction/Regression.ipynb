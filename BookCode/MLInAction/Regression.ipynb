{
 "cells": [
  {
   "cell_type": "code",
   "execution_count": 3,
   "metadata": {},
   "outputs": [],
   "source": [
    "def loadDataSet(fileName):\n",
    "    '''\n",
    "    \n",
    "    Returns:\n",
    "        dataMat : feature\n",
    "        labelMat : feature\n",
    "        \n",
    "    \n",
    "    \n",
    "    ''' \n",
    "    numFeat = len(fileNmae).readline().split('\\t') - 1\n",
    "    dataMat = []\n",
    "    labelMat = []\n",
    "    fr = open(fileNmae)\n",
    "    for line in fr.readlines():\n",
    "        \n",
    "        lineArr = []\n",
    "        curLine = line.strip().split('\\t')\n",
    "        \n",
    "        for i in range(numFeat):\n",
    "            \n",
    "            lineArr.append(float(curLine[i]))\n",
    "        dataMat.append(lineArr)\n",
    "        \n",
    "        labelMat.append(float(curLine[-1]))\n",
    "        \n",
    "    return dataMat, labelMat\n"
   ]
  },
  {
   "cell_type": "code",
   "execution_count": 11,
   "metadata": {},
   "outputs": [],
   "source": [
    "def standRegres(xArr, yArr):\n",
    "    '''\n",
    "    Description:\n",
    "    \n",
    "    Args:\n",
    "        xArr\n",
    "        yArr\n",
    "        \n",
    "    Returns:\n",
    "        ws\n",
    "    \n",
    "    \n",
    "    '''\n",
    "    \n",
    "    xMat = mat(xArr)\n",
    "    yMat = mat(yArr).T\n",
    "    \n",
    "    xTx = xMat.T * xMat\n",
    "    \n",
    "    if linalg.detx(xTx) == 0:\n",
    "    \n",
    "        print (\"This matrix is singular, cannot do inverse\")\n",
    "        return \n",
    "    ws = xTx.I *( xMat.T * yMat)\n",
    "    \n",
    "    return ws"
   ]
  },
  {
   "cell_type": "code",
   "execution_count": 12,
   "metadata": {
    "collapsed": true
   },
   "outputs": [],
   "source": [
    "def regression1():\n",
    "    \n",
    "    xArr, yArr = loadDataSet(\"input.txt\")\n",
    "    xMat = mat(xArr)\n",
    "    yMat = mat(yArr)\n",
    "    \n",
    "    ws = standRegress(xArr, yArr)\n",
    "    fig = plt.figure()\n",
    "    \n",
    "    ax = fig.add_subplot(111)\n",
    "    ax.scatter(xMat[:, 1].flatten(), yMat.T[:, 0].flatten().A[0])  #scatter \n",
    "    xCopy = xMat.copy()\n",
    "    xCopy.sort(0)\n",
    "    yHat = xCopy * ws\n",
    "    yHat = xCopy * ws\n",
    "    \n",
    "    ax.plot(xCopy[:, 1], yHat)\n",
    "    plt.show()\n",
    "    "
   ]
  },
  {
   "cell_type": "code",
   "execution_count": 13,
   "metadata": {
    "collapsed": true
   },
   "outputs": [],
   "source": [
    "def lwlr(testPoint, xArr, yArr, k=1.0):\n",
    "    \n",
    "    '''\n",
    "    Description:\n",
    "        \n",
    "        Args:\n",
    "            testPoint:\n",
    "            xArr:\n",
    "            yArr:\n",
    "            K:\n",
    "        Returns:\n",
    "            testPoint * ws \n",
    "            \n",
    "        Nontes:\n",
    "        \n",
    "    '''\n",
    "    \n",
    "    #  mat()  array to matrix\n",
    "    xMat = mat(xArr)\n",
    "    yMat = mat(yArr).T\n",
    "    \n",
    "    m = shape(xMat)[0]\n",
    "    weights = mat(eye((m)))\n",
    "    \n",
    "    for j in range(m):\n",
    "        \n",
    "        # testPoint\n",
    "        # \n",
    "        diffMat = testPoint - xMat[j, :]\n",
    "        \n",
    "        weights[j, j] = exp(diffmat*diffMat.T/(-2.0 * k**2))\n",
    "        \n",
    "    xTx = xMat.T * (weights * xMat)\n",
    "    \n",
    "    if linalg.det(xTx) == 0.0 : \n",
    "        print ( \"this matrix si singular , cannot do inverse\")\n",
    "        \n",
    "        return \n",
    "    \n",
    "    ws = xtx>I * (xMat.T * (weights * yMat))\n",
    "    \n",
    "    return testPoint * ws \n",
    "\n"
   ]
  },
  {
   "cell_type": "code",
   "execution_count": 14,
   "metadata": {
    "collapsed": true
   },
   "outputs": [],
   "source": [
    "def lwlrTest(testArr, xArr, yArr, k=1.0):\n",
    "    '''\n",
    "    Description:\n",
    "        \n",
    "    Args:\n",
    "        testArr:\n",
    "        xArr:\n",
    "        yArr:\n",
    "        k:\n",
    "        \n",
    "    Returns:\n",
    "        yHat:\n",
    "    \n",
    "    '''\n",
    "    \n",
    "    m = shape(testArr)[0]\n",
    "    yHat = zeros(m)\n",
    "    \n",
    "    for i in range(m):\n",
    "        yHat[i] = lwlr(testArr[i], xArr, yArr, k)\n",
    "        \n",
    "    return yHat\n"
   ]
  },
  {
   "cell_type": "code",
   "execution_count": 15,
   "metadata": {
    "collapsed": true
   },
   "outputs": [],
   "source": [
    "def lwlrTestPlot(xArr, yArr, k=1.0):\n",
    "    \n",
    "    yHat = zeros(shape(yArr))\n",
    "    xCopy = mat(xArr)\n",
    "    \n",
    "    xCopy.sort(0)\n",
    "    \n",
    "    for i in range(shape(xArr)[0]):\n",
    "        yHat[i] = lwlr(xCopy[i], xArr, yArr, k)\n",
    "        \n",
    "    return yHat, xCopy"
   ]
  },
  {
   "cell_type": "code",
   "execution_count": 16,
   "metadata": {
    "collapsed": true
   },
   "outputs": [],
   "source": [
    "def ridgeRegress(xMat, yMat, lam=0.2):\n",
    "    \n",
    "    xTx = xMat.T * xMat\n",
    "    \n",
    "    denom = xTx + eye(shape(xMat)[1]*lam)\n",
    "    \n",
    "    if linalg.det(denom) == 0.0:\n",
    "        print(\"This matrix is singular, cannot do inverse\")\n",
    "        return \n",
    "    \n",
    "    ws = denom.l * (xMat.T * yMat)\n",
    "    \n",
    "    return ws \n"
   ]
  },
  {
   "cell_type": "code",
   "execution_count": null,
   "metadata": {
    "collapsed": true
   },
   "outputs": [],
   "source": []
  }
 ],
 "metadata": {
  "kernelspec": {
   "display_name": "Python 3",
   "language": "python",
   "name": "python3"
  },
  "language_info": {
   "codemirror_mode": {
    "name": "ipython",
    "version": 3
   },
   "file_extension": ".py",
   "mimetype": "text/x-python",
   "name": "python",
   "nbconvert_exporter": "python",
   "pygments_lexer": "ipython3",
   "version": "3.6.1"
  }
 },
 "nbformat": 4,
 "nbformat_minor": 2
}
