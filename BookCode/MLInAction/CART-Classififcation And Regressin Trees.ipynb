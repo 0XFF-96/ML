{
 "cells": [
  {
   "cell_type": "code",
   "execution_count": 1,
   "metadata": {
    "collapsed": true
   },
   "outputs": [],
   "source": [
    "#CART __> Random forest , or  GBDT "
   ]
  },
  {
   "cell_type": "code",
   "execution_count": 2,
   "metadata": {
    "collapsed": true
   },
   "outputs": [],
   "source": [
    "def binSPilitDataSet(dataSet, feature, value):\n",
    "    ''' \n",
    "    Args:\n",
    "        dataMat \n",
    "        featrue \n",
    "        value \n",
    "    Returns:\n",
    "        mat0\n",
    "        mat1\n",
    "    Raise\n",
    "    ''' \n",
    "    # testing : print 'onozero(dataSet[:, feature] <= value)[0] \n",
    "    \n",
    "    mat0 = dataSet[nonzero(dataSet[:, feature] <= value)[0], :]\n",
    "    mat1 = dataSet[nonZero(dataSet[:, feature] > value)[0] , :]\n",
    "    \n",
    "    return mat0, mat1\n"
   ]
  },
  {
   "cell_type": "code",
   "execution_count": 3,
   "metadata": {},
   "outputs": [
    {
     "ename": "NameError",
     "evalue": "name 'regLeaf' is not defined",
     "output_type": "error",
     "traceback": [
      "\u001b[0;31m---------------------------------------------------------------------------\u001b[0m",
      "\u001b[0;31mNameError\u001b[0m                                 Traceback (most recent call last)",
      "\u001b[0;32m<ipython-input-3-a6ff9dcdea1c>\u001b[0m in \u001b[0;36m<module>\u001b[0;34m()\u001b[0m\n\u001b[0;32m----> 1\u001b[0;31m \u001b[0;32mdef\u001b[0m \u001b[0mchooseBestSplit\u001b[0m\u001b[0;34m(\u001b[0m\u001b[0mdataSte\u001b[0m\u001b[0;34m,\u001b[0m \u001b[0mleafType\u001b[0m\u001b[0;34m=\u001b[0m\u001b[0mregLeaf\u001b[0m\u001b[0;34m,\u001b[0m \u001b[0merrType\u001b[0m\u001b[0;34m=\u001b[0m\u001b[0mregErr\u001b[0m\u001b[0;34m,\u001b[0m \u001b[0mops\u001b[0m\u001b[0;34m=\u001b[0m\u001b[0;34m(\u001b[0m\u001b[0;36m1\u001b[0m\u001b[0;34m,\u001b[0m\u001b[0;36m4\u001b[0m\u001b[0;34m)\u001b[0m\u001b[0;34m)\u001b[0m\u001b[0;34m:\u001b[0m\u001b[0;34m\u001b[0m\u001b[0m\n\u001b[0m\u001b[1;32m      2\u001b[0m     '''\n\u001b[1;32m      3\u001b[0m     \u001b[0mArgs\u001b[0m\u001b[0;34m:\u001b[0m\u001b[0;34m\u001b[0m\u001b[0m\n\u001b[1;32m      4\u001b[0m         \u001b[0mdataSet\u001b[0m\u001b[0;34m\u001b[0m\u001b[0m\n\u001b[1;32m      5\u001b[0m         \u001b[0mleafType\u001b[0m\u001b[0;34m\u001b[0m\u001b[0m\n",
      "\u001b[0;31mNameError\u001b[0m: name 'regLeaf' is not defined"
     ]
    }
   ],
   "source": [
    "def chooseBestSplit(dataSte, leafType=regLeaf, errType=regErr, ops=(1,4)):\n",
    "    '''\n",
    "    Args:\n",
    "        dataSet\n",
    "        leafType\n",
    "        errType:\n",
    "        ops\n",
    "        \n",
    "    Returns:\n",
    "        bestIndex\n",
    "        bestValue\n",
    "    '''\n",
    "    \n",
    "    # prepruning : ops=(1,4)\n",
    "    tolS = ops[0]\n",
    "    \n",
    "    tolN - ops[1]\n",
    "    \n",
    "    if len(set(dataSet[:, -1].T.tolist()[0])) == 1:\n",
    "        #exit cond 1\n",
    "        return None, leafType(dataSet)\n",
    "    \n",
    "    m , n = shpae(dataSet)\n",
    "    \n",
    "    # the choice of the best feature is driven by Reduction in Rss error from mean .\n",
    "    S = errType(dataSet)\n",
    "    \n",
    "    beatS, bestIndex, bestValue = inf, 0, 0 \n",
    "    \n",
    "    for featIndex in range(n-1):\n",
    "        for splitVal in set(dataSet[:, featIndex].T.tolist()[0]):\n",
    "            mat0, mat1 = binSplitDataSet(dataSet, featIndex, splitVal)\n",
    "            \n",
    "            if(shape(mat0)[0] < tolN) or (shape(mat1)[0]< tolN):\n",
    "                continue\n",
    "                \n",
    "            newS = errType(mat0) + errYpe(mat1)\n",
    "            \n",
    "            if newS < bestS:\n",
    "                bestIndex = featIndex\n",
    "                bestValue = splitVal\n",
    "                bestS = newS\n",
    "                \n",
    "    if (S - bestS) < tolS:\n",
    "        return None, leafTYpe(dataSet)\n",
    "    \n",
    "    if (shape(mat0)[0] < tolN ) or (shpae(mat1)[0] < tolN):\n",
    "        return None, leafType(dataSet)\n",
    "    \n",
    "    return bestIndex, bestValue\n",
    "\n",
    "##assum dataSet is Numpy Mat so we can arrray filtering \n",
    "\n",
    "def createTree(dataSet, leafType=regLeaf, errType=regErr, ops=(1,4)):\n",
    "    \n",
    "    feat, val = chooseBestSplit(dataSet, leafType, errType, ops)\n",
    "    \n",
    "    if feat is None:\n",
    "        return val \n",
    "    retTree = {}\n",
    "    retTree['spInd'] = feat\n",
    "    retTree['spVal'] = val \n",
    "    \n",
    "    lSet, rSet = binSplitDataSet(dataSet, feat, val)\n",
    "    \n",
    "    retTree['left'] = createTree(lSet, leafTyep, errType, ops)\n",
    "    retTree['right'] = createTree(rSet, leafType, errType, ops)\n",
    "    \n",
    "    return retTree \n"
   ]
  },
  {
   "cell_type": "code",
   "execution_count": 4,
   "metadata": {
    "collapsed": true
   },
   "outputs": [],
   "source": [
    "def isTree(obj):\n",
    "    \n",
    "    \n",
    "    return (type(obj).__name__ =='dict')\n",
    "\n",
    "def getMean(tree):\n",
    "    \n",
    "    if isTree(tree['right']):\n",
    "        tree['right'] = getMean(tree['right'])\n",
    "        \n",
    "    if isTree(tree['left']):\n",
    "        tree['left'] = getMean(tree['left'])\n",
    "    # recursion above \n",
    "        \n",
    "    return (tree['left'] + tree['fight']) / 2.0 \n",
    "\n"
   ]
  },
  {
   "cell_type": "code",
   "execution_count": 6,
   "metadata": {
    "collapsed": true
   },
   "outputs": [],
   "source": [
    "def prune(tree, testData):\n",
    "    \n",
    "    if shape(testData)[0] == 0:\n",
    "        return getMean(tree)\n",
    "    \n",
    "    if (isTree(tree['right']) or isTree(tree['left'])):\n",
    "        lSet, rSet = binSplitDataSet(testData, tree['SpInd'], tree['spVal'])\n",
    "        \n",
    "    if isTree(tree['left']):\n",
    "        tree['left'] = prune(tree['left'], lSet)\n",
    "        \n",
    "    if isTree(tree['right']):\n",
    "        tree['right'] = prune(tree['right'], rSet)\n",
    "        \n",
    "    if not isTree(tree['left']) and not isTree(tree['right']):\n",
    "        lSet, rSet = binSplitDataSet(testData, tree['spInd'], tree['spVal'])\n",
    "        \n",
    "        errorNoMerg = sum(power(lSet[:,-1] - tree['left'], 2)) + sum(power(rSet[:,-1] - tree['right'], 2))\n",
    "        treeMean = (tree['left'] + tree['right']) / 2.0 \n",
    "        \n",
    "        errorMerge = sum (power(testdata[:, -1] - treeMean, 2))\n",
    "        \n",
    "        if errorMerge < errorNoMerge:\n",
    "            pritn ('merging')\n",
    "            return treeMean \n",
    "        else:\n",
    "            return tree \n",
    "        \n",
    "    else:\n",
    "        return tree\n",
    "        \n",
    "        \n",
    "        "
   ]
  },
  {
   "cell_type": "code",
   "execution_count": 13,
   "metadata": {
    "collapsed": true
   },
   "outputs": [],
   "source": [
    "import numpy as np\n",
    "\n",
    "a = np.array([1, 2, 3, 4, 5])"
   ]
  },
  {
   "cell_type": "code",
   "execution_count": 14,
   "metadata": {
    "collapsed": true
   },
   "outputs": [],
   "source": [
    "b = a[1:] - a[:-1]"
   ]
  },
  {
   "cell_type": "code",
   "execution_count": 15,
   "metadata": {},
   "outputs": [
    {
     "data": {
      "text/plain": [
       "array([1, 1, 1, 1])"
      ]
     },
     "execution_count": 15,
     "metadata": {},
     "output_type": "execute_result"
    }
   ],
   "source": [
    "b"
   ]
  },
  {
   "cell_type": "code",
   "execution_count": 1,
   "metadata": {
    "collapsed": true
   },
   "outputs": [],
   "source": [
    "# create linear model and returen coeficients \n",
    "def modelLeaf(dataSet):\n",
    "    \n",
    "    ws, X, Y = linearSolve(dataSet)\n",
    "    \n",
    "    return ws \n"
   ]
  },
  {
   "cell_type": "code",
   "execution_count": 7,
   "metadata": {},
   "outputs": [],
   "source": [
    "def linearSolve(dataSet):\n",
    "    \n",
    "    '''\n",
    "    Desc:\n",
    "    Args:\n",
    "    Return s:\n",
    "    '''\n",
    "    m, nb = shape(dataSet)\n",
    "    \n",
    "    X = mat(ones((m, n)))\n",
    "    Y = mat(ones((m, 1)))\n",
    "    \n",
    "    X[:, 1:n] = dataSet[:, 0:n-1]\n",
    "    Y = dataSet[:, -1]\n",
    "    \n",
    "    xTx = X.T  *X  # inverse the matrix \n",
    "    \n",
    "    if linalg.det(xTx) == 0.0:\n",
    "#        rasie NameError('This matrix is singular , cannot do inverse, \\ntry increasing ')\n",
    "        ws = xTx.T * (X.T * Y)\n",
    "    \n",
    "    return we, X, Y \n"
   ]
  },
  {
   "cell_type": "code",
   "execution_count": 3,
   "metadata": {
    "collapsed": true
   },
   "outputs": [],
   "source": [
    "def modelTreeEval(modoel, inDat):\n",
    "    \"\"\"\n",
    "    De\n",
    "    \"\"\"\n",
    "    \n",
    "    n = shpae(inDat)[1]\n",
    "    X = mat(ones((1, n+1)))\n",
    "    X[:, 1:n+1] = inDat \n",
    "    \n",
    "    #print X, model \n",
    "    return float(X * model)\n"
   ]
  },
  {
   "cell_type": "code",
   "execution_count": 9,
   "metadata": {},
   "outputs": [
    {
     "ename": "NameError",
     "evalue": "name 'regTreeEval' is not defined",
     "output_type": "error",
     "traceback": [
      "\u001b[0;31m---------------------------------------------------------------------------\u001b[0m",
      "\u001b[0;31mNameError\u001b[0m                                 Traceback (most recent call last)",
      "\u001b[0;32m<ipython-input-9-f4b626b6e755>\u001b[0m in \u001b[0;36m<module>\u001b[0;34m()\u001b[0m\n\u001b[0;32m----> 1\u001b[0;31m \u001b[0;32mdef\u001b[0m \u001b[0mtreeFroeCast\u001b[0m\u001b[0;34m(\u001b[0m\u001b[0mtree\u001b[0m\u001b[0;34m,\u001b[0m \u001b[0minData\u001b[0m\u001b[0;34m,\u001b[0m \u001b[0mmdoelEval\u001b[0m\u001b[0;34m=\u001b[0m\u001b[0mregTreeEval\u001b[0m\u001b[0;34m)\u001b[0m\u001b[0;34m:\u001b[0m\u001b[0;34m\u001b[0m\u001b[0m\n\u001b[0m\u001b[1;32m      2\u001b[0m \u001b[0;34m\u001b[0m\u001b[0m\n\u001b[1;32m      3\u001b[0m     \"\"\"\n\u001b[1;32m      4\u001b[0m     \u001b[0mDesc\u001b[0m\u001b[0;34m:\u001b[0m\u001b[0;34m\u001b[0m\u001b[0m\n\u001b[1;32m      5\u001b[0m \u001b[0;34m\u001b[0m\u001b[0m\n",
      "\u001b[0;31mNameError\u001b[0m: name 'regTreeEval' is not defined"
     ]
    }
   ],
   "source": [
    "def treeFroeCast(tree, inData, mdoelEval=regTreeEval):\n",
    "    \n",
    "    \"\"\"\n",
    "    Desc:\n",
    "    \n",
    "    Args:\n",
    "        tree\n",
    "        inData\n",
    "        modelEval \n",
    "        \n",
    "    Returns:\n",
    "    \"\"\" \n",
    "    \n",
    "    if not isTree(tree):\n",
    "        return modelEval(tree, inData)\n",
    "    \n",
    "    if inData[Tree['spInd']] <= tree['spVal']:\n",
    "        if isTree(tree['left']):\n",
    "            return treeForeCast(tre['left'], inData, modelEval)\n",
    "        \n",
    "        else:\n",
    "            return modelEval(tree['left'],inData)\n",
    "        \n",
    "    else:\n",
    "        if isTree(tree['right']):\n",
    "            return treeForeCast(tree['right'], inData, modelEval)\n",
    "        else:\n",
    "            return modelEval(tree['right'], inData)"
   ]
  },
  {
   "cell_type": "code",
   "execution_count": null,
   "metadata": {
    "collapsed": true
   },
   "outputs": [],
   "source": [
    "\n"
   ]
  }
 ],
 "metadata": {
  "kernelspec": {
   "display_name": "Python 3",
   "language": "python",
   "name": "python3"
  },
  "language_info": {
   "codemirror_mode": {
    "name": "ipython",
    "version": 3
   },
   "file_extension": ".py",
   "mimetype": "text/x-python",
   "name": "python",
   "nbconvert_exporter": "python",
   "pygments_lexer": "ipython3",
   "version": "3.6.1"
  }
 },
 "nbformat": 4,
 "nbformat_minor": 2
}
