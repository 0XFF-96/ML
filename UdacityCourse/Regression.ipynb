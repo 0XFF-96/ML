{
 "cells": [
  {
   "cell_type": "code",
   "execution_count": 1,
   "metadata": {},
   "outputs": [
    {
     "data": {
      "text/plain": [
       "\"\\nfrom sklearn import linear_model\\nclf = linear_model.LinearRegression()\\nclf.fit([[0,0], [1, 1], [2, 2 ],[0, 1, 2] ])\\n\\nlet's deploy it on our ages new worths problem so ...\\n\\n\""
      ]
     },
     "execution_count": 1,
     "metadata": {},
     "output_type": "execute_result"
    }
   ],
   "source": [
    "'''\n",
    "from sklearn import linear_model\n",
    "clf = linear_model.LinearRegression()\n",
    "clf.fit([[0,0], [1, 1], [2, 2 ],[0, 1, 2] ])\n",
    "\n",
    "let's deploy it on our ages new worths problem so ...\n",
    "\n",
    "'''"
   ]
  },
  {
   "cell_type": "code",
   "execution_count": 2,
   "metadata": {},
   "outputs": [
    {
     "data": {
      "text/plain": [
       "'\\nimport numpy\\nimport matplotlib \\nmatplotlib.use(\\'agg\\')\\n\\nimport matplotlib.pyplot as plt\\n\\nplt.clf()\\nplt.scatter(ages_train, new_worths_train, color=\"b\", label=\"train data\")\\nplt.scatter(ages_test, new_worths_test, color=\"r\", label=\"test data\")\\nplt.plot(ages_test, reg.predict(ages_test), color=\"black\")\\nplt.legend(loc=2)\\nplt.xlabel(\"ages\")\\nplt.ylabel(\"new worths\")\\n\\nplt.savefig(\\'test.png)\\n'"
      ]
     },
     "execution_count": 2,
     "metadata": {},
     "output_type": "execute_result"
    }
   ],
   "source": [
    "'''\n",
    "import numpy\n",
    "import matplotlib \n",
    "matplotlib.use('agg')\n",
    "\n",
    "import matplotlib.pyplot as plt\n",
    "\n",
    "plt.clf()\n",
    "plt.scatter(ages_train, new_worths_train, color=\"b\", label=\"train data\")\n",
    "plt.scatter(ages_test, new_worths_test, color=\"r\", label=\"test data\")\n",
    "plt.plot(ages_test, reg.predict(ages_test), color=\"black\")\n",
    "plt.legend(loc=2)\n",
    "plt.xlabel(\"ages\")\n",
    "plt.ylabel(\"new worths\")\n",
    "\n",
    "plt.savefig('test.png)\n",
    "'''"
   ]
  },
  {
   "cell_type": "code",
   "execution_count": 4,
   "metadata": {},
   "outputs": [
    {
     "data": {
      "text/plain": [
       "'\\nslope : reg.coef_\\nintercept, reg.intercept_\\nreg.score(ages_train, net_worths_train)\\nreg.score(ages_test, net_worths_train)\\n\\nr-squared score, reg.score(ages_test, new_worths_test)\\nthe high is the better \\n? the performance metrics that you can use to evalueate your regressions\\n\\n'"
      ]
     },
     "execution_count": 4,
     "metadata": {},
     "output_type": "execute_result"
    }
   ],
   "source": [
    "'''\n",
    "slope : reg.coef_\n",
    "intercept, reg.intercept_\n",
    "reg.score(ages_train, net_worths_train)\n",
    "reg.score(ages_test, net_worths_train)\n",
    "\n",
    "r-squared score, reg.score(ages_test, new_worths_test)\n",
    "the high is the better \n",
    "? the performance metrics that you can use to evalueate your regressions\n",
    "\n",
    "'''"
   ]
  },
  {
   "cell_type": "code",
   "execution_count": 5,
   "metadata": {},
   "outputs": [
    {
     "data": {
      "text/plain": [
       "'\\nimport numpy \\nimport random\\n\\ndef ageNetWorthData():\\n\\n    random.seed(42)\\n    numpy.random.seed(42)\\n    \\n    ages = []\\n    \\n    for ii in range(100):\\n    \\n        ages.append( random.randint(20, 65))\\n\\n        new_worths [ii * 6.25 + numpy.random.normal(scale=40.) for ii in ages]\\n    ages = numpy.reshape(numpy(ages, )(len(ages), 1))\\n\\n    new_worths = numpy.reshape(numpy.array(new_worths), len(net_worths), 1)\\n    \\n    from sklearn.cross_validation import train_test_split\\n    ages_train, ages_test, net_worths_train, net_worths_test = train_test_split(ages, new_worths)\\n    \\n    return ages_train, ages_test, new_worths_train, new_worths_test\\n'"
      ]
     },
     "execution_count": 5,
     "metadata": {},
     "output_type": "execute_result"
    }
   ],
   "source": [
    "'''\n",
    "import numpy \n",
    "import random\n",
    "\n",
    "def ageNetWorthData():\n",
    "\n",
    "    random.seed(42)\n",
    "    numpy.random.seed(42)\n",
    "    \n",
    "    ages = []\n",
    "    \n",
    "    for ii in range(100):\n",
    "    \n",
    "        ages.append( random.randint(20, 65))\n",
    "\n",
    "        new_worths [ii * 6.25 + numpy.random.normal(scale=40.) for ii in ages]\n",
    "    ages = numpy.reshape(numpy(ages, )(len(ages), 1))\n",
    "\n",
    "    new_worths = numpy.reshape(numpy.array(new_worths), len(net_worths), 1)\n",
    "    \n",
    "    from sklearn.cross_validation import train_test_split\n",
    "    ages_train, ages_test, net_worths_train, net_worths_test = train_test_split(ages, new_worths)\n",
    "    \n",
    "    return ages_train, ages_test, new_worths_train, new_worths_test\n",
    "'''"
   ]
  },
  {
   "cell_type": "code",
   "execution_count": 1,
   "metadata": {
    "collapsed": true
   },
   "outputs": [],
   "source": [
    "# how to evaluate your regression models ?\n",
    "# Linear Regression Errors"
   ]
  },
  {
   "cell_type": "code",
   "execution_count": 2,
   "metadata": {
    "collapsed": true
   },
   "outputs": [],
   "source": [
    "# what regression line looks best? "
   ]
  },
  {
   "cell_type": "code",
   "execution_count": 3,
   "metadata": {},
   "outputs": [
    {
     "data": {
      "text/plain": [
       "'\\nfrom sklearn.linear_model import LinearRegression\\n\\nreg = LinearRegression()\\nreg.fit(ages, net_worths)\\n\\nreg.predict([127])\\nreg.coef_\\nreg.intercept\\nr-squared, reg.score(ages, net_worths)\\n\\n\\n...\\n\\n'"
      ]
     },
     "execution_count": 3,
     "metadata": {},
     "output_type": "execute_result"
    }
   ],
   "source": [
    "'''\n",
    "from sklearn.linear_model import LinearRegression\n",
    "\n",
    "reg = LinearRegression()\n",
    "reg.fit(ages, net_worths)\n",
    "\n",
    "reg.predict([127])\n",
    "reg.coef_\n",
    "reg.intercept\n",
    "r-squared, reg.score(ages, net_worths)\n",
    "\n",
    "\n",
    "...\n",
    "\n",
    "'''"
   ]
  },
  {
   "cell_type": "code",
   "execution_count": null,
   "metadata": {
    "collapsed": true
   },
   "outputs": [],
   "source": [
    "'''\n",
    "visualizing our results is very important\n",
    "\n",
    "plt.scatter(ages, net_worths)\n",
    "plt.plot(ages, reg.predict(ages, color='blue', linewidth=3))\n",
    "plt.xlabel(\"ages\")\n",
    "plt.ylabel(\"net worths\")\n",
    " \n",
    "'''"
   ]
  }
 ],
 "metadata": {
  "kernelspec": {
   "display_name": "Python 3",
   "language": "python",
   "name": "python3"
  },
  "language_info": {
   "codemirror_mode": {
    "name": "ipython",
    "version": 3
   },
   "file_extension": ".py",
   "mimetype": "text/x-python",
   "name": "python",
   "nbconvert_exporter": "python",
   "pygments_lexer": "ipython3",
   "version": "3.6.1"
  }
 },
 "nbformat": 4,
 "nbformat_minor": 2
}
