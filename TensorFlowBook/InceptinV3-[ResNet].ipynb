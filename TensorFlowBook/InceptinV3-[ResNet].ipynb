{
 "cells": [
  {
   "cell_type": "code",
   "execution_count": 1,
   "metadata": {
    "collapsed": true
   },
   "outputs": [],
   "source": [
    "import collections\n",
    "import tensorflow as tf\n",
    "slim = tf.contrib.slim"
   ]
  },
  {
   "cell_type": "code",
   "execution_count": 2,
   "metadata": {
    "collapsed": true
   },
   "outputs": [],
   "source": [
    "class Block(collections.namedtuple('Block', ['scope', 'unit_fn','args'])):\n",
    "    'A named tuple describing a ResNet block'\n",
    "    \n",
    "    "
   ]
  },
  {
   "cell_type": "code",
   "execution_count": 3,
   "metadata": {
    "collapsed": true
   },
   "outputs": [],
   "source": [
    "def subsample(inputs, factor, scope=None):\n",
    "    \n",
    "    if factor == 1:\n",
    "        return inputs\n",
    "    else:\n",
    "        return slim.max_pool2d(inputs, [1, 1], stride=factor, scope=scope)"
   ]
  },
  {
   "cell_type": "code",
   "execution_count": 4,
   "metadata": {
    "collapsed": true
   },
   "outputs": [],
   "source": [
    "def conv2d_same(inputs, num_outpus, kernel_size, stride, scope=None):\n",
    "    \n",
    "    if stride == 1:\n",
    "        return slim.conv2d(inputs, num_outputs, kernel_size, stride=1, \n",
    "                              padding='SAME', scope=scope)\n",
    "    else:\n",
    "        pad_total = kernel_size  -1 \n",
    "        pad_beg = pad_total // 2\n",
    "        pad_end = pad_total - pad_beg \n",
    "        inputs = tf.pad(inputs, [[0, 0], [pad_beg, pad_end], \n",
    "                                [pad_beg, pad_end], [0, 0]])\n",
    "        \n",
    "        return slim.conv2d(inputs, num_outputs, kernel_size, stride=stride, \n",
    "                            padding='VALID', scope='scope')\n",
    "    "
   ]
  },
  {
   "cell_type": "code",
   "execution_count": 7,
   "metadata": {},
   "outputs": [],
   "source": [
    "@slim.add_arg_scope\n",
    "def stack_bloccks_dense(net, blocks, outputs_collections=None):\n",
    "    \n",
    "    for block in blocks:\n",
    "        \n",
    "        with tf.variable_scope(block.scope, 'block', [net]) as sc:\n",
    "            for i, unit in enumerate(block.args):\n",
    "                with tf.variable_scope('unit_%d'(i + 1), values=[net]):\n",
    "                    unit_depth, unit_depth_bottleneck, unit_stride = unit\n",
    "                    net = block.unit_fn(net, \n",
    "                                       depth=unit_depth,\n",
    "                                        depth_bottleneck=unit_depth_bottleneck, \n",
    "                                        stride=unit_stride)\n",
    "                    net = slim.utils.collect_named_outputs(outputs_collections, sc.name, \n",
    "                                                          net)\n",
    "                    \n",
    "    return net"
   ]
  },
  {
   "cell_type": "code",
   "execution_count": 9,
   "metadata": {},
   "outputs": [
    {
     "ename": "IndentationError",
     "evalue": "expected an indented block (<ipython-input-9-3cae10becd9d>, line 20)",
     "output_type": "error",
     "traceback": [
      "\u001b[0;36m  File \u001b[0;32m\"<ipython-input-9-3cae10becd9d>\"\u001b[0;36m, line \u001b[0;32m20\u001b[0m\n\u001b[0;31m    with slim.arg_scope([slim.batch_norm], **batch_norm_params):\u001b[0m\n\u001b[0m       ^\u001b[0m\n\u001b[0;31mIndentationError\u001b[0m\u001b[0;31m:\u001b[0m expected an indented block\n"
     ]
    }
   ],
   "source": [
    "def resnet_arg_scope(is_training=True, \n",
    "                        weight_decay=0.001, \n",
    "                        batch_norm_decay=0.997, \n",
    "                        batch_norm_epsilon=1e-5,\n",
    "                        batch_norm_scale=True):\n",
    "    batch_norm_params = {\n",
    "        'is_training': is_trainging, \n",
    "        'decay': batch_norm_decay, \n",
    "        'epsilon': batch_norm_epsilon, \n",
    "        'scale' : batch_norm_scale, \n",
    "        'updates_collections' : tf.GraphKeys.UPDATS_OPS, \n",
    "    }\n",
    "    \n",
    "    with slim.arg_scope([slim.conv2d], \n",
    "                       weights_regualrizer=slim.l2_regularizer(weight_decay), \n",
    "                       weights_inititalizer=slim.variance_scaling_initializer(), \n",
    "                       activation_fn=tf.nn.relu, \n",
    "                       normalizer_fn=slim.batch_norm,\n",
    "                       ):\n",
    "    with slim.arg_scope([slim.batch_norm], **batch_norm_params):\n",
    "        with slim.arg_scope([slim.max_pool2d], padding='SAME') as arg_sc:\n",
    "            return arg_sc\n",
    "        \n",
    "    "
   ]
  },
  {
   "cell_type": "code",
   "execution_count": 10,
   "metadata": {},
   "outputs": [
    {
     "ename": "SyntaxError",
     "evalue": "unexpected EOF while parsing (<ipython-input-10-d3ce44b8039d>, line 5)",
     "output_type": "error",
     "traceback": [
      "\u001b[0;36m  File \u001b[0;32m\"<ipython-input-10-d3ce44b8039d>\"\u001b[0;36m, line \u001b[0;32m5\u001b[0m\n\u001b[0;31m    \u001b[0m\n\u001b[0m    ^\u001b[0m\n\u001b[0;31mSyntaxError\u001b[0m\u001b[0;31m:\u001b[0m unexpected EOF while parsing\n"
     ]
    }
   ],
   "source": [
    "@slim.add_arg_scope\n",
    "def bottleneck(inputs, depth, depth_bottleneck, stride, \n",
    "                  outputs_collections=None, scope=None):\n",
    "    with tf.variable_scope(scope, 'bottleneck_v2', [inputs]) as sc:\n",
    "        "
   ]
  },
  {
   "cell_type": "code",
   "execution_count": null,
   "metadata": {
    "collapsed": true
   },
   "outputs": [],
   "source": []
  }
 ],
 "metadata": {
  "kernelspec": {
   "display_name": "Python 3",
   "language": "python",
   "name": "python3"
  },
  "language_info": {
   "codemirror_mode": {
    "name": "ipython",
    "version": 3
   },
   "file_extension": ".py",
   "mimetype": "text/x-python",
   "name": "python",
   "nbconvert_exporter": "python",
   "pygments_lexer": "ipython3",
   "version": "3.6.1"
  }
 },
 "nbformat": 4,
 "nbformat_minor": 2
}
