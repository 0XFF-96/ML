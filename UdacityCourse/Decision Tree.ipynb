{
 "cells": [
  {
   "cell_type": "code",
   "execution_count": 4,
   "metadata": {},
   "outputs": [],
   "source": [
    "# ** Decision tree **"
   ]
  },
  {
   "cell_type": "code",
   "execution_count": 5,
   "metadata": {
    "collapsed": true
   },
   "outputs": [],
   "source": [
    "# decison trees learn from data to approximate a sine curve with a set of if-then-else decision ruls.\n",
    "# runing around trying to slice the boundary in such a way that it \n",
    "# sign of overfitting "
   ]
  },
  {
   "cell_type": "code",
   "execution_count": 6,
   "metadata": {},
   "outputs": [
    {
     "data": {
      "text/plain": [
       "'\\nimport sklearn import tree\\n\\nclf = tree.DecisionTreeClassifier()\\nclf = clf.fit(x, y)\\nfrom sklearn.metrics import accuracy_score\\n\\naccuracy_score(y_true, y_pred) (labels_test, pred)\\n\\njump on the doc again , and see what parameters we can tune so that we can get this number a little bit better.\\n'"
      ]
     },
     "execution_count": 6,
     "metadata": {},
     "output_type": "execute_result"
    }
   ],
   "source": [
    "'''\n",
    "from  sklearn import tree\n",
    "\n",
    "clf = tree.DecisionTreeClassifier()\n",
    "clf = clf.fit(x, y)\n",
    "from sklearn.metrics import accuracy_score\n",
    "\n",
    "accuracy_score(y_true, y_pred) (labels_test, pred)\n",
    "\n",
    "jump on the doc again , and see what parameters we can tune so that we can get this number a little bit better.\n",
    "'''"
   ]
  },
  {
   "cell_type": "code",
   "execution_count": 7,
   "metadata": {},
   "outputs": [
    {
     "data": {
      "text/plain": [
       "'\\nParam:\\n\\n* min_samples_split:relate to the number of sample,  weather I can keep spliting or not ... espcially on the lefe note (default is 2)\\n\\n\\n'"
      ]
     },
     "execution_count": 7,
     "metadata": {},
     "output_type": "execute_result"
    }
   ],
   "source": [
    "'''\n",
    "Param:\n",
    "\n",
    "* min_samples_split:relate to the number of sample,  weather I can keep spliting or not ... espcially on the lefe note (default is 2)\n",
    "* try to change the default min_samples_split to ....\n",
    "* Get some intuition for what they're controlling and how they actuall change the shape of the decision boundary\n",
    "\n",
    "\n",
    "'''"
   ]
  },
  {
   "cell_type": "code",
   "execution_count": null,
   "metadata": {
    "collapsed": true
   },
   "outputs": [],
   "source": [
    "'''\n",
    "\n",
    "import scipy.stats\n",
    "print scipy.stats.entropy([2,1], base=2)\n",
    "\n",
    "selector = SelectPercentile(f_classif, percentile=10)\n",
    "\n",
    "\n",
    "'''"
   ]
  }
 ],
 "metadata": {
  "kernelspec": {
   "display_name": "Python 3",
   "language": "python",
   "name": "python3"
  },
  "language_info": {
   "codemirror_mode": {
    "name": "ipython",
    "version": 3
   },
   "file_extension": ".py",
   "mimetype": "text/x-python",
   "name": "python",
   "nbconvert_exporter": "python",
   "pygments_lexer": "ipython3",
   "version": "3.6.1"
  }
 },
 "nbformat": 4,
 "nbformat_minor": 2
}
