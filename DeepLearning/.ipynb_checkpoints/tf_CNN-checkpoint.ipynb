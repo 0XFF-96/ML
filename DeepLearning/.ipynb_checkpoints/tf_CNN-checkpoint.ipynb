{
 "cells": [
  {
   "cell_type": "code",
   "execution_count": 2,
   "metadata": {},
   "outputs": [
    {
     "name": "stdout",
     "output_type": "stream",
     "text": [
      "Extracting MNIST_data/train-images-idx3-ubyte.gz\n",
      "Extracting MNIST_data/train-labels-idx1-ubyte.gz\n",
      "Extracting MNIST_data/t10k-images-idx3-ubyte.gz\n",
      "Extracting MNIST_data/t10k-labels-idx1-ubyte.gz\n"
     ]
    }
   ],
   "source": [
    "import tensorflow as tf\n",
    "import tensorflow.examples.tutorials.mnist.input_data as input_data\n",
    "mnist = input_data.read_data_sets('MNIST_data', one_hot=True)"
   ]
  },
  {
   "cell_type": "code",
   "execution_count": 11,
   "metadata": {
    "collapsed": true
   },
   "outputs": [],
   "source": [
    "def weight(shape):\n",
    "    return tf.Variable(tf.truncated_normal(shape, stddev=0.1))\n",
    "\n",
    "def bias(shape):\n",
    "    return tf.Variable(tf.constant(0.1, shape=None),\n",
    "                       name = 'b')\n",
    "\n",
    "def conv2d(x, W):\n",
    "    return tf.nn.conv2d(x, W, strides=[1, 1, 1, 1], \n",
    "                        padding='SAME')"
   ]
  },
  {
   "cell_type": "code",
   "execution_count": 16,
   "metadata": {
    "collapsed": true
   },
   "outputs": [],
   "source": [
    "def max_pool_2x2(x):\n",
    "    return tf.nn.max_pool(x, ksize=[1, 2, 2, 1], \n",
    "                           strides=[1, 2, 2, 1],\n",
    "                           padding='SAME')\n"
   ]
  },
  {
   "cell_type": "code",
   "execution_count": 17,
   "metadata": {
    "collapsed": true
   },
   "outputs": [],
   "source": [
    "x = tf.placeholder('float', shape=[None, 784])\n",
    "x_image = tf.reshape(x, [-1, 28, 28, 1])\n"
   ]
  },
  {
   "cell_type": "code",
   "execution_count": 18,
   "metadata": {},
   "outputs": [],
   "source": [
    "w1 = weight([5, 5, 1, 16])\n",
    "b1 = bias([16])\n",
    "Conv1 = conv2d(x_image, w1) + 1\n",
    "C1_Conv = tf.nn.relu(Conv1)"
   ]
  },
  {
   "cell_type": "code",
   "execution_count": 19,
   "metadata": {},
   "outputs": [],
   "source": [
    "C1_Pool = max_pool_2x2(C1_Conv)"
   ]
  },
  {
   "cell_type": "code",
   "execution_count": 20,
   "metadata": {
    "collapsed": true
   },
   "outputs": [],
   "source": [
    "w2 = weight([5, 5, 16, 36])\n",
    "b2 = bias([36])\n",
    "Conv2 = conv2d(C1_Pool, w2) + b2\n",
    "C2_Conv = tf.nn.relu(Conv2)"
   ]
  },
  {
   "cell_type": "code",
   "execution_count": 24,
   "metadata": {},
   "outputs": [],
   "source": [
    "C2_Pool = max_pool_2x2(C2_Conv)\n",
    "D_Flat = tf.reshape(C2_Pool, [-1, 11764])"
   ]
  },
  {
   "cell_type": "code",
   "execution_count": 26,
   "metadata": {},
   "outputs": [],
   "source": [
    "w3 = weight([11764, 128])\n",
    "b3 = bias([128])\n",
    "D_Hidden = tf.nn.relu(\n",
    "            tf.matmul(D_Flat, w3)+b3)\n",
    "D_Hidden_Dropout = tf.nn.dropout(D_Hidden, \n",
    "                                 keep_prob=0.8)"
   ]
  },
  {
   "cell_type": "code",
   "execution_count": 28,
   "metadata": {},
   "outputs": [],
   "source": [
    "with tf.name_scope('Input_Layer'):\n",
    "    x = tf.placeholder('float', shape=[None, 784])\n",
    "    \n",
    "    x_image = tf.reshape(x, [-1, 28, 28, 1])"
   ]
  },
  {
   "cell_type": "code",
   "execution_count": 29,
   "metadata": {
    "collapsed": true
   },
   "outputs": [],
   "source": [
    "with tf.name_scope('C1_Conv'):\n",
    "    w1 = weight([5, 5, 1, 16])\n",
    "    b1 = bias([16])\n",
    "    Conv1 = conv2d(x_image, w1) + b1\n",
    "    C1_Conv = tf.nn.relu(Conv1)"
   ]
  },
  {
   "cell_type": "code",
   "execution_count": 30,
   "metadata": {
    "collapsed": true
   },
   "outputs": [],
   "source": [
    "with tf.name_scope('C1_Pool'):\n",
    "    C1_Pool = max_pool_2x2(C1_Conv)"
   ]
  },
  {
   "cell_type": "code",
   "execution_count": 31,
   "metadata": {
    "collapsed": true
   },
   "outputs": [],
   "source": [
    "with tf.name_scope('C2_Conv'):\n",
    "    W2 = weight([5, 5, 16, 36])\n",
    "    b2 = bias([36])\n",
    "    Conv2 = conv2d(C1_Pool, W2) + b2\n",
    "    C2_Conv = tf.nn.relu(Conv2)"
   ]
  },
  {
   "cell_type": "code",
   "execution_count": 32,
   "metadata": {
    "collapsed": true
   },
   "outputs": [],
   "source": [
    "with tf.name_scope('C2_Pool'):\n",
    "    C2_Pool = max_pool_2x2(C2_Conv)\n",
    "    "
   ]
  },
  {
   "cell_type": "code",
   "execution_count": 33,
   "metadata": {
    "collapsed": true
   },
   "outputs": [],
   "source": [
    "with tf.name_scope('D_Flat'):\n",
    "    D_Flat = tf.reshape(C2_Pool, [-1, 1764])"
   ]
  },
  {
   "cell_type": "code",
   "execution_count": 34,
   "metadata": {
    "collapsed": true
   },
   "outputs": [],
   "source": [
    "with tf.name_scope('D_Hidden_Layer'):\n",
    "    w3 = weight([1764, 128])\n",
    "    b3 = bias([128])\n",
    "    D_Hidden = tf.nn.relu(\n",
    "            tf.matmul(D_Flat, w3) + b3)\n",
    "    D_Hidden_Dropout = tf.nn.dropout(D_Hidden, \n",
    "                                     keep_prob=0.8)"
   ]
  },
  {
   "cell_type": "code",
   "execution_count": null,
   "metadata": {
    "collapsed": true
   },
   "outputs": [],
   "source": []
  }
 ],
 "metadata": {
  "kernelspec": {
   "display_name": "Python 3",
   "language": "python",
   "name": "python3"
  },
  "language_info": {
   "codemirror_mode": {
    "name": "ipython",
    "version": 3
   },
   "file_extension": ".py",
   "mimetype": "text/x-python",
   "name": "python",
   "nbconvert_exporter": "python",
   "pygments_lexer": "ipython3",
   "version": "3.6.1"
  }
 },
 "nbformat": 4,
 "nbformat_minor": 2
}
