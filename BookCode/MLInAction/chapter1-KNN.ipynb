{
 "cells": [
  {
   "cell_type": "code",
   "execution_count": 1,
   "metadata": {
    "collapsed": true
   },
   "outputs": [],
   "source": [
    "#KNN 4-1 From Apachecn"
   ]
  },
  {
   "cell_type": "code",
   "execution_count": 2,
   "metadata": {
    "collapsed": true
   },
   "outputs": [],
   "source": [
    "def file2matrix(filename):\n",
    "    '''\n",
    "    Desc:\n",
    "    parameters:\n",
    "    return:\n",
    "    \n",
    "    '''\n",
    "    fr = open(filename)   # why dont use  with clasue?>? \n",
    "    numberOfLines = len(fr.readlines())\n",
    "    \n",
    "    returnMat = zeros((numberOfLines, 3))   # prepare matrix to return \n",
    "    classLabelVector = []  #prepare labels return \n",
    "    \n",
    "    fr = open(filename)\n",
    "    index = 0 \n",
    "    for line in fr.readlines():\n",
    "        #str.strip([chars]) \n",
    "        line = line.strip()\n",
    "        listFromline = line.split('\\t')\n",
    "        \n",
    "        returnMat[index, :] = listFromLine[0:3]\n",
    "        \n",
    "        classLabelVector.append(listFromLine[-1])\n",
    "        index += 1\n",
    "        \n",
    "    return returnMat, classLabelVector"
   ]
  },
  {
   "cell_type": "code",
   "execution_count": 3,
   "metadata": {},
   "outputs": [
    {
     "data": {
      "text/plain": [
       "'\\ndata formamt\\n40920   8.326976    0.953952    3\\n14488   7.153469    1.673904    2\\n26052   1.441871    0.805124    1\\n75136   13.147394   0.428964    1\\n38344   1.669788    0.134296    1\\n\\n'"
      ]
     },
     "execution_count": 3,
     "metadata": {},
     "output_type": "execute_result"
    }
   ],
   "source": [
    "'''\n",
    "data formamt\n",
    "40920   8.326976    0.953952    3\n",
    "14488   7.153469    1.673904    2\n",
    "26052   1.441871    0.805124    1\n",
    "75136   13.147394   0.428964    1\n",
    "38344   1.669788    0.134296    1\n",
    "\n",
    "'''"
   ]
  },
  {
   "cell_type": "code",
   "execution_count": 4,
   "metadata": {},
   "outputs": [
    {
     "data": {
      "text/plain": [
       "'\\nimport matplotlib\\nimport matplotlib.pyplot as plt\\nfig = plt.figure()\\nax = fig.add_subplot(1111)\\nax.scatter(datingDataMat[:,1], datingDataMat[:, 2], 15.0 *array(datingLabels), 15.0, )\\n\\n\\n'"
      ]
     },
     "execution_count": 4,
     "metadata": {},
     "output_type": "execute_result"
    }
   ],
   "source": [
    "'''\n",
    "import matplotlib\n",
    "import matplotlib.pyplot as plt\n",
    "fig = plt.figure()\n",
    "ax = fig.add_subplot(1111)\n",
    "ax.scatter(datingDataMat[:,1], datingDataMat[:, 2], 15.0 *array(datingLabels), 15.0, )\n",
    "\n",
    "\n",
    "'''"
   ]
  },
  {
   "cell_type": "code",
   "execution_count": 5,
   "metadata": {
    "collapsed": true
   },
   "outputs": [],
   "source": [
    "def autoNorm(dataSet):\n",
    "    '''\n",
    "    Desc:\n",
    "    parameter:\n",
    "    return :\n",
    "    \n",
    "    '''\n",
    "    minVals = dataSet.min(0)\n",
    "    maxVals = dataset.max(0)\n",
    "    ranges = maxVals - minVals\n",
    "    m = dataSet.shape[0]  # the first demension of the array \n",
    "    normDataSet = dataSet - tile(minVals, (m, 1))   # each positoin substraction a constant number ...\n",
    "    normDataSet = normDataSet / title(ranges, (m, 1)) # element sie divide \n",
    "    \n",
    "    return normDataSet, ranges, minVals"
   ]
  },
  {
   "cell_type": "code",
   "execution_count": 6,
   "metadata": {},
   "outputs": [
    {
     "ename": "SyntaxError",
     "evalue": "Missing parentheses in call to 'print' (<ipython-input-6-f8777a6254e2>, line 12)",
     "output_type": "error",
     "traceback": [
      "\u001b[0;36m  File \u001b[0;32m\"<ipython-input-6-f8777a6254e2>\"\u001b[0;36m, line \u001b[0;32m12\u001b[0m\n\u001b[0;31m    print 'numTestVecs'= ', numTestVecs'\u001b[0m\n\u001b[0m                      ^\u001b[0m\n\u001b[0;31mSyntaxError\u001b[0m\u001b[0;31m:\u001b[0m Missing parentheses in call to 'print'\n"
     ]
    }
   ],
   "source": [
    "def datingClassTest():\n",
    "    \n",
    "    hoRatio = 0.1 # range of the dataset \n",
    "    \n",
    "    datingDataMat, datingLabels = file2matrix('input/2.KNN/datingTestSet2.txt')\n",
    "    \n",
    "    norMat, ranges, minVals = autoNorm(datingDataMat)\n",
    "    \n",
    "    m = normMat.shape[0]\n",
    "    numTestVecs = int( m *  hoRatio)\n",
    "    \n",
    "    print 'numTestVecs'= ', numTestVecs'\n",
    "    \n",
    "    errorCount = 0.0\n",
    "    for i in range(numTestVecs):\n",
    "        classifierResult = classify0(normMat[i, :], normMat[numTestVecs:m, :], datingLable[numTestVecs:m],3)\n",
    "        \n",
    "        print \"the classfier came back with : %d  the real answer is %d\" %(classfierResult, datingLabels[i])\n",
    "        \n",
    "        if (classifierResult != datingLabels[i]: errorCount += 1.0)\n",
    "        \n",
    "    print \"the total error rate is : %f \" %(errorCount / float(numTestVecs))\n",
    "    print errorCount \n",
    "    "
   ]
  },
  {
   "cell_type": "code",
   "execution_count": 7,
   "metadata": {
    "collapsed": true
   },
   "outputs": [],
   "source": [
    "def clasdifyPerson():\n",
    "    resultList = ['not at all', 'in small doese', 'in large doese']\n",
    "    percentTate = float(raw_input(\"percentatge  of time spent playing video games ?\"))\n",
    "    ffMiles = float(raw_input(\"liters of ice cream consumed per year ?\"))"
   ]
  },
  {
   "cell_type": "code",
   "execution_count": null,
   "metadata": {
    "collapsed": true
   },
   "outputs": [],
   "source": [
    "def img2vector(filename):\n",
    "    returnVect = zeros((1, 1024))\n",
    "    fr = open(filename)\n",
    "    \n",
    "    for i in range(32):\n",
    "        lineStr = fr.readLine()\n",
    "        for j in range(32):\n",
    "            returnVect[0, 32*i + j] =int(lineStr[j])\n",
    "    return returnVect\n",
    "       "
   ]
  }
 ],
 "metadata": {
  "kernelspec": {
   "display_name": "Python 3",
   "language": "python",
   "name": "python3"
  },
  "language_info": {
   "codemirror_mode": {
    "name": "ipython",
    "version": 3
   },
   "file_extension": ".py",
   "mimetype": "text/x-python",
   "name": "python",
   "nbconvert_exporter": "python",
   "pygments_lexer": "ipython3",
   "version": "3.6.1"
  }
 },
 "nbformat": 4,
 "nbformat_minor": 2
}
