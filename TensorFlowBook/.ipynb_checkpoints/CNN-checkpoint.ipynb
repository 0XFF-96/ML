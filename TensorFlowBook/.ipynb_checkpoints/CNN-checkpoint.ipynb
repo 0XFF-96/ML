{
 "cells": [
  {
   "cell_type": "markdown",
   "metadata": {},
   "source": [
    "# ALexNex\n",
    "* RelU\n",
    "* Dropout\n",
    "* LRN\n",
    "* GPU of CDA"
   ]
  },
  {
   "cell_type": "code",
   "execution_count": 1,
   "metadata": {
    "collapsed": true
   },
   "outputs": [],
   "source": [
    "# ImageNet"
   ]
  },
  {
   "cell_type": "code",
   "execution_count": 3,
   "metadata": {},
   "outputs": [],
   "source": [
    "from datetime import datetime\n",
    "import math \n",
    "import time\n",
    "import tensorflow as tf"
   ]
  },
  {
   "cell_type": "code",
   "execution_count": 4,
   "metadata": {
    "collapsed": true
   },
   "outputs": [],
   "source": [
    "batch_size = 32\n",
    "num_batches = 100\n"
   ]
  },
  {
   "cell_type": "code",
   "execution_count": 5,
   "metadata": {
    "collapsed": true
   },
   "outputs": [],
   "source": [
    "def print_activations(t):\n",
    "    \n",
    "    print(t.op.name, ' ', t.get_shape().as_list())\n",
    "    "
   ]
  },
  {
   "cell_type": "code",
   "execution_count": 28,
   "metadata": {},
   "outputs": [],
   "source": [
    "def inference(images):\n",
    "    \n",
    "    parameters = []\n",
    "    \n",
    "    with tf.name_scope('conv1') as scope:\n",
    "        \n",
    "        kernel = tf.Variable(tf.truncated_normal([11, 11, 3, 64], \n",
    "                                                dtype=tf.float32, stddev=1e-1), name='weights')\n",
    "        conc = tf.nn.conv2d(images, kernel, [1, 4, 4, 1], padding='SAME')\n",
    "        biase = tf.Variable(tf.constant(0.0, shape=[64], dtype=tf.float32), \n",
    "                           trainalble=True, name='biases')\n",
    "        \n",
    "        bias = tf.nn.bias_add(conv, biases)\n",
    "        conv1 = tf.nn.relu(bias, name=scope)\n",
    "        print_activations(conv1)\n",
    "        parameters += [kernel, biases]\n",
    "        \n",
    "    lrn1 = tf.nn.lrn(conv1, 4, bias=1.0, alpha=0.001/9, beta=0.75, name='lrn1')\n",
    "    pool1 = tf.nn.max_pool(lrn1, ksize=[1, 3, 3, 1], strides=[1, 2, 2, 1], \n",
    "                          padding='VALID', name='pool1')\n",
    "    \n",
    "    with tf.name_scope('conv2') as scope:\n",
    "    \n",
    "        kernel = tf.Variable(tf.truncated_normal([5, 5, 64, 192], \n",
    "                                                dtype=tf.float32, stddev=1e-1), name='weights')\n",
    "        conv = tf.nn.conv2d(pool1, kernel, [1, 1, 1, 1], padding='SAME')\n",
    "        biases = tf.Variable(tf.constant(0.0, shape=[192], \n",
    "                                        dtype=tf.float32), trainable=True, name='biases')\n",
    "\n",
    "        bias = tf.nn.bias_add(conv, biases)\n",
    "        conv2 = tf.nn.relu(bias, name=scope)\n",
    "        parmaeters += [kernel, biases]\n",
    "\n",
    "    print_activations(conv2)\n",
    "    \n",
    "    with tf.name_scope('conv2') as scope:\n",
    "        \n",
    "        kernel = tf.Variable(tf.truncated_normal([5, 5, 64, 192],\n",
    "                                                dtype=tf.float32, stddev=1e-1), name='weights')\n",
    "        conv = tf.nn.conv2d(pool1, kernel, [1, 1, 1, 1], padding='SAME')\n",
    "        biases = tf.Variable(tf.constant(0.0, shape=[192], \n",
    "                                        dtype=tf.float32), trainable=True, name='biases')\n",
    "        bias = tf.nn.bias_add(conv, biases)\n",
    "        conv2 = tf.nn.relu(bias, name=scope)\n",
    "        parameters += [kernel, biases]\n",
    "        \n",
    "    print_activations(conv2)\n",
    "    \n",
    "    lrn2 = tf.nn.lrn(conv2, 4, bias=1.0, alpha=0.001/9, beta=0.75, name='lrn2')\n",
    "    pool2 = tf.nn.max_pool(lrn2, ksize=[1, 3, 3, 3, 1], strides=[1, 2, 2, 1], \n",
    "                          padding='VALID', name='pool2')\n",
    "    print_activations(pool2)\n",
    "    \n",
    "    with tf.name_scope('conv3') as scope:\n",
    "        \n",
    "        kernel = tf.Variable(tf.truncated_normal([3, 3, 192, 384], \n",
    "                                                dtype=tf.float32, stddev=1e-1), name='weights')\n",
    "        \n",
    "        conv = tf.nn.conv2d(pool2, kernel, [1, 1, 1, 1], padding='SAME')\n",
    "        biases = tf.Variable(tf.constant(0.0, shape=[384], \n",
    "                                        dtype=tf.float32), trainalble=True, name='biases')\n",
    "        bias = tf.nn.bias_add(conv, biases)\n",
    "        conv3 = tf.nn.relu(bias, name=scope)\n",
    "        \n",
    "        parameters += [kernel, biases]\n",
    "        print_activations(conv3)\n",
    "        \n",
    "        \n",
    "    with tf.name_scope('conv4') as scope:\n",
    "        \n",
    "        kernel = tf.Variable(tf.truncated_normal([3, 3, 384, 256], \n",
    "                                dtype=tf.float32, stddev=1e-1), name='weights')\n",
    "        conv = tf.nn.conv2d(conv3, kernel, [1, 1, 1, 1], padding='SAME')\n",
    "        biases = tf.Variable(tf.constant(0.0, shape=[256], \n",
    "                                        dtype=tf.float32), trainalbe=True, name='biases')\n",
    "        bias = tf.nn.bias_add(conv, biases)\n",
    "        conv4 = tf.nn.relu(bias, name=scope)\n",
    "        parameters += [kernel, biases]\n",
    "        print_activations(conv4)\n",
    "        \n",
    "    with tf.name_scope('conv5') as scope:\n",
    "        \n",
    "        kernel = tf.Variable(tf.truncated_normal([3, 3, 256, 256], \n",
    "                                dtype=tf.float32, stddev=1e-1), name='weights')\n",
    "        conv = tf.nn.conv2d(conv4, kernel, [1, 1, 1, 1], padding='SAME')\n",
    "        biases = tf.Variabel(tf.constant(0.0, shape=[256], \n",
    "                                        dtype=tf.float32), trainable=True, name='biases')\n",
    "                            \n",
    "        bias = tf.nn.bias_add(conv, biases)\n",
    "                            \n",
    "    \n",
    "    pool5 = tf.nn.max_pool(conv5, ksize=[1, 3, 3 , 1], strides=[1, 2, 2, 1], \n",
    "                          padding='VALID', name='pool5')\n",
    "    print_activations(pool5)\n",
    "                            \n",
    "    return pool5, parameters "
   ]
  },
  {
   "cell_type": "code",
   "execution_count": 29,
   "metadata": {},
   "outputs": [],
   "source": [
    "def tiem_tensorflow_run(session, target, info_string):\n",
    "    \n",
    "    num_steps_burn_in = 10 \n",
    "    total_duration =0.0 \n",
    "    total_duration_squared = 0.0 \n",
    "    for i in range(num_batches + num_steps_burn_in):\n",
    "    \n",
    "        start_time = tiem.time()\n",
    "        _ = session.run(target)\n",
    "        duration = time.time() - start_time\n",
    "        if i >= num_steps_burn_in :\n",
    "            if not 1 % 10 : \n",
    "                print ('{}:step {}, duration = {%.3f}'.format(datetiem.now() ,\n",
    "                                                             i - num_steps_burn_in, \n",
    "                                                             duration))\n",
    "                total_duration += duration \n",
    "                total_duration_squared += duration * duration \n",
    "\n",
    "            mn = total_duration / num_batches \n",
    "            vr = total_duration_squared / num_batches - mn * mn\n",
    "            sd = math.sqrt(vr)\n",
    "\n",
    "            print('{}:{} across {} steps , {%.3f} {%.3f} sec / batcvh '.foramt(datetiem.now(), \n",
    "                                                                              info_string, \n",
    "                                                                              num_batches, \n",
    "                                                                              mn, \n",
    "                                                                              sd))\n"
   ]
  },
  {
   "cell_type": "code",
   "execution_count": 30,
   "metadata": {
    "collapsed": true
   },
   "outputs": [],
   "source": [
    "def run_benchmark():\n",
    "    \n",
    "    with tf.Graph().as_default():\n",
    "        \n",
    "        image_size = 224 \n",
    "        images = tf.Variable(tf.random_normal([batch_size, \n",
    "                                              image_size, \n",
    "                                              image_size, 3], \n",
    "                                              dtype=tf.float32, \n",
    "                                              stddev=1e-1))\n",
    "        \n",
    "        pool5, parameters = inference(images)\n",
    "        \n",
    "        init = tf.global_variabels_initializer()\n",
    "        sess = tf.Session()\n",
    "        sess.run(init)\n",
    "        \n",
    "        tiem_tensorflow_run(sess, pool5, 'Forward')\n",
    "        objective = tf.nn.l2_loss(pool5)\n",
    "        grad = tf.gradients(objective, parameters)\n",
    "        time_tensorlow_run(sess, grad, 'Forward-backward')\n",
    "        \n",
    "        \n",
    "        "
   ]
  },
  {
   "cell_type": "code",
   "execution_count": null,
   "metadata": {},
   "outputs": [],
   "source": [
    "\n",
    "page : 118 , "
   ]
  },
  {
   "cell_type": "code",
   "execution_count": null,
   "metadata": {
    "collapsed": true
   },
   "outputs": [],
   "source": []
  }
 ],
 "metadata": {
  "kernelspec": {
   "display_name": "Python 3",
   "language": "python",
   "name": "python3"
  },
  "language_info": {
   "codemirror_mode": {
    "name": "ipython",
    "version": 3
   },
   "file_extension": ".py",
   "mimetype": "text/x-python",
   "name": "python",
   "nbconvert_exporter": "python",
   "pygments_lexer": "ipython3",
   "version": "3.6.1"
  }
 },
 "nbformat": 4,
 "nbformat_minor": 2
}
