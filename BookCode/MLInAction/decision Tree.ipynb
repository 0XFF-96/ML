{
 "cells": [
  {
   "cell_type": "code",
   "execution_count": 1,
   "metadata": {
    "collapsed": true
   },
   "outputs": [],
   "source": [
    "def createDataSet():\n",
    "    dataSet = [[1, 1, 'yes'],\n",
    "              [1, 0, 'no'],\n",
    "              [0, 1, 'no'],\n",
    "               [0,0,'no' ],\n",
    "              ]\n",
    "    \n",
    "    labes = ['no surfacing', 'flippers']\n",
    "    \n",
    "    return dataSet, labels"
   ]
  },
  {
   "cell_type": "code",
   "execution_count": 2,
   "metadata": {
    "collapsed": true
   },
   "outputs": [],
   "source": [
    "def clacShannonEnt(dataSet):\n",
    "    \n",
    "    numEntries = len(dataSet)\n",
    "    labelCounts = {}\n",
    "    \n",
    "    # the number of unique elements and their ocuurance \n",
    "    \n",
    "    for featVec in dataSet:\n",
    "        \n",
    "        currentLabel = featVec[-1]\n",
    "        \n",
    "        if currentLabel not in labelCounts.key():\n",
    "            labelCounts[currentLabel] = 0\n",
    "        labelCounts[courrentLabel] += 1\n",
    "        \n",
    "    shannonEnt = 0.0\n",
    "    \n",
    "    for key in labelCounts:\n",
    "        # the frequency of the label \n",
    "        \n",
    "        prob = float(labelCounts[key]) / numEntries\n",
    "        shannonEnt -= Prob * log(prob, 2)\n",
    "        \n",
    "    return shannonEnt "
   ]
  },
  {
   "cell_type": "code",
   "execution_count": 3,
   "metadata": {
    "collapsed": true
   },
   "outputs": [],
   "source": [
    "def splitDataSet(dataSet, index, value):\n",
    "    '''\n",
    "    \n",
    "    Args:\n",
    "    1\\dataset\n",
    "    2\\index \n",
    "    3\\value \n",
    "    \n",
    "    return index from value data set \n",
    "    \n",
    "    '''\n",
    "    \n",
    "    retDataSet = []\n",
    "    \n",
    "    for featVec in dataSet:\n",
    "        \n",
    "        if featVec[index] == value:\n",
    "            #chop out index used for splitting \n",
    "            reducedFeatVec = featVec[:index]\n",
    "            \n",
    "            reducedFeatVec.extend(featVec[index+1:])\n",
    "            retDataSet.append(reducedFeatVec)\n",
    "            \n",
    "    return retDataSet\n",
    "            "
   ]
  },
  {
   "cell_type": "code",
   "execution_count": 5,
   "metadata": {},
   "outputs": [],
   "source": [
    "def chooseBestFeatureToSplit(dataSet):\n",
    "    '''\n",
    "    args:\n",
    "        dataSet\n",
    "        \n",
    "    returns:\n",
    "        bestFeature\n",
    "        \n",
    "    \n",
    "    '''\n",
    "    numFeatures = len(dataSet[0]-1)\n",
    "    \n",
    "    beseEntropy = calcShannonEnt(dataSet)\n",
    "    \n",
    "    bestInfoGan, bestFeature = 0.0 , -1\n",
    "    #iterate over all the feature\n",
    "    \n",
    "    for i in range(numFeatures):\n",
    "        \n",
    "        #create a list of all the example of this \n",
    "        \n",
    "        featList = [example[i] for example in dataSet]\n",
    "        \n",
    "        #get a set of unique values\n",
    "        uniqueVals = set(featList)\n",
    "        \n",
    "        newEntropy = 0.0\n",
    "        \n",
    "        for value in uniqueVals:\n",
    "            subDataSet = splitDataSet(dataSet, i, value)\n",
    "            \n",
    "            prob = len(subDataSet) / float(len(dataSet))\n",
    "            \n",
    "            newEntropy += prob * calcShanonEnt(subDataSet)\n",
    "            \n",
    "        #gain [information gain] :  \n",
    "        infoGain = baseEntropy - newEntropy\n",
    "        \n",
    "        print('infoGain=', infoGain, 'bestFeature=', i, baseEntropy, newEntropy)\n",
    "        \n",
    "        if (infoGain > bestInfoGain):\n",
    "            bestInfoGain = infoGain\n",
    "            bestFeature = i\n",
    "            \n",
    "        return bestFeature\n",
    "    "
   ]
  },
  {
   "cell_type": "code",
   "execution_count": 6,
   "metadata": {
    "collapsed": true
   },
   "outputs": [],
   "source": [
    "def createTree(dataSet, labels):\n",
    "    \n",
    "    classList = [example[-1] for example in dataSet]\n",
    "    #cout()\n",
    "    \n",
    "    if classList.count(classList[0]) == len(classList):\n",
    "        return classList[0]\n",
    "    \n",
    "    if len(dataSet[0]) == 1:\n",
    "        return majorityCnt(classList)\n",
    "    \n",
    "    bestFeat = chooseBestFeatureToSplit(dataSet)\n",
    "    bestFeatLabel = labels[bestFeat]\n",
    "    \n",
    "    myTree = {bestFeatLabel: {} }\n",
    "\n",
    "    del(labels[bestFeat])\n",
    "    \n",
    "    featValues = [example[bestFeat] for example in dataSet]\n",
    "    uniqueVal = set(featValues)\n",
    "    \n",
    "    for value in uniquVals:\n",
    "        \n",
    "        subLabels = label[:]\n",
    "        \n",
    "        myTree[bestFeatLabel][value] = createTree(splitDataSet(dataSet, bestFeat, value), subLabel)\n",
    "        #print 'myTree', Value, myTree\n",
    "        \n",
    "    \n",
    "    return myTree\n",
    "\n",
    "    "
   ]
  },
  {
   "cell_type": "code",
   "execution_count": 7,
   "metadata": {
    "collapsed": true
   },
   "outputs": [],
   "source": [
    "def classify(inputTree, featLabels, testVec):\n",
    "    \n",
    "    \"\"\"classfify(note, classi)\n",
    "    \n",
    "    Args:\n",
    "        inputTree\n",
    "        featLabels\n",
    "        testVec\n",
    "        \n",
    "    returns:\n",
    "        classLabel\n",
    "    \n",
    "    \"\"\"\n",
    "    \n",
    "    firstStr = inputTree.keys()[0]\n",
    "    \n",
    "    secondDict =inputTree[firstStr]\n",
    "    \n",
    "    featIndex = featLabels.index(firstStr)\n",
    "    \n",
    "    key = testVec[featIndex]\n",
    "    valueOfFeat = secondDict[key]\n",
    "    \n",
    "    print ('+++', firstStr, 'xxx', secondDict, '---',key , '>>>', valueOfFeat)\n",
    "    \n",
    "    if isinstance(valueOfFeat, dict):\n",
    "        classLabel = classify(valueOfFeat, feaatLabels, testVec)\n",
    "        \n",
    "    else:\n",
    "        classLabel = valueOfFeat\n",
    "        \n",
    "    return classLabel\n",
    "\n"
   ]
  },
  {
   "cell_type": "code",
   "execution_count": 8,
   "metadata": {},
   "outputs": [
    {
     "data": {
      "text/plain": [
       "\"\\nleces = [inst.strip().split('\\t') for inst in fr.readlines() ]\\nlensesLabels = ['age', 'prescript', 'astigmatic', 'tearRate']\\n\\n\""
      ]
     },
     "execution_count": 8,
     "metadata": {},
     "output_type": "execute_result"
    }
   ],
   "source": [
    "'''\n",
    "leces = [inst.strip().split('\\t') for inst in fr.readlines() ]\n",
    "lensesLabels = ['age', 'prescript', 'astigmatic', 'tearRate']\n",
    "\n",
    "'''"
   ]
  },
  {
   "cell_type": "code",
   "execution_count": 9,
   "metadata": {
    "collapsed": true
   },
   "outputs": [],
   "source": [
    "def storeTree(inputTree, filename):\n",
    "    import pickle\n",
    "    fw = open(filename, 'w')\n",
    "    pickle.dump(inputTree, fw)\n",
    "    fw.close()\n",
    "    \n",
    "def grabTree(filename):\n",
    "    \n",
    "    import pickle\n",
    "    fr = open(filename)\n",
    "    \n",
    "    return pickle.load(fr)\n",
    "\n"
   ]
  },
  {
   "cell_type": "code",
   "execution_count": null,
   "metadata": {
    "collapsed": true
   },
   "outputs": [],
   "source": []
  }
 ],
 "metadata": {
  "kernelspec": {
   "display_name": "Python 3",
   "language": "python",
   "name": "python3"
  },
  "language_info": {
   "codemirror_mode": {
    "name": "ipython",
    "version": 3
   },
   "file_extension": ".py",
   "mimetype": "text/x-python",
   "name": "python",
   "nbconvert_exporter": "python",
   "pygments_lexer": "ipython3",
   "version": "3.6.1"
  }
 },
 "nbformat": 4,
 "nbformat_minor": 2
}
