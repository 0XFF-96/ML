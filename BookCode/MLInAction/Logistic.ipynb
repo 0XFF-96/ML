{
 "cells": [
  {
   "cell_type": "code",
   "execution_count": 4,
   "metadata": {},
   "outputs": [],
   "source": [
    "def plotBestFit(dataArr, labelMat, weights):\n",
    "    '''\n",
    "        Desc:\n",
    "        \n",
    "        Args:\n",
    "            dataArr:\n",
    "            labelMat:\n",
    "            weights:\n",
    "            \n",
    "        Return:\n",
    "            None\n",
    "    '''\n",
    "    \n",
    "    n = shape(dataArr)[0]\n",
    "    xcord1 = [] \n",
    "    ycord1 = []\n",
    "    xcord2 = []\n",
    "    ycord2 = []\n",
    "    \n",
    "    for i in range(n):\n",
    "        if int(labelMat[i]) == 1:\n",
    "            xcord1.append(dataArr[i, 1]); ycord1.append(dataArr[i, 2])\n",
    "            \n",
    "        else:\n",
    "            xcord2.append(dataArr[i, 1]); ycord2.append(dataArr[i, 2])\n",
    "            \n",
    "    fig = plt.figure()\n",
    "    ax = fig.add_subplot(111)\n",
    "    ax.scatter(xcord1, ycord1, s=30, c='red', marker='s')\n",
    "    ax.scatter(xcord2, ycord2, s=30, c='green')\n",
    "    x = range(-3.0, 3.0, 0.1)\n",
    "    \n",
    "    y = (-Weights[0] - weights[1] * x / weights[2])\n",
    "    \n",
    "    ax.plot(x, y)\n",
    "    plt.xlabel('X'); plt.ylabel('y')\n",
    "    plt.show()\n",
    "        "
   ]
  },
  {
   "cell_type": "code",
   "execution_count": 6,
   "metadata": {},
   "outputs": [],
   "source": [
    "def gradAscent(dataMatIn, classLabels):\n",
    "    \n",
    "    dataMatrix = mat(dataMatIn)\n",
    "    # transer to [[0, 1, 0, 1.....]]\n",
    "    \n",
    "    labelMat = mat(classLabels).transpose() \n",
    "    m, n = shape(dataMatrix)  # m : the len of the data, n the number of the data \n",
    "    \n",
    "    #print m , n '__' * 10 , shape(dataMatrix, transpose()), '__' * 100 \n",
    "    \n",
    "    #alpha \n",
    "    alpha = 0.001\n",
    "    \n",
    "    maxCycles = 500 \n",
    "    \n",
    "    weights = ones((n, 1))\n",
    "    \n",
    "    for k in range(maxCycles):\n",
    "        \n",
    "        #m * 3 * 3 * 1 = m * 1 \n",
    "        # print 'dataMatrix === ' , dataMatrix \n",
    "        # print 'weights == ', weights \n",
    "        \n",
    "        h = sigmoid(dataMatrix * wieghts)\n",
    "        \n",
    "        error = (labelMat - h )\n",
    "        \n",
    "        weights = weights + alpha * dataMatrix.transponse() * error \n",
    "        \n",
    "    return array(weights)\n",
    "\n",
    "    "
   ]
  },
  {
   "cell_type": "code",
   "execution_count": 7,
   "metadata": {
    "collapsed": true
   },
   "outputs": [],
   "source": [
    "def testLR():\n",
    "    dataMat, labelMat = loadDataSet(\"input/5.Logistic/TestSet.txt \")\n",
    "    \n",
    "    dataArr = array(dataMat)\n",
    "    \n",
    "    weights = gradAscent(dataArr, labelMat)\n",
    "    \n",
    "    pltoBestFit(dataArr, labelMat, weights)\n",
    "    \n",
    "    "
   ]
  },
  {
   "cell_type": "code",
   "execution_count": 9,
   "metadata": {},
   "outputs": [],
   "source": [
    "def stocGradAscent0(dataMatrix, classLabels):\n",
    "    \n",
    "    m, n = shape(dataMatrix)\n",
    "    alpha = 0.01 \n",
    "    \n",
    "    weights = ones(n)\n",
    "    \n",
    "    for i in range(m):\n",
    "        #sum (dataMatrix[i] * weights)\n",
    "        \n",
    "        h = sigmoid(sum(dataMatrix[i] * weights))\n",
    "        \n",
    "        #print 'dataMatrix[i] === ', dataMatrix[i]\n",
    "        \n",
    "        error = classLabels[i] - h \n",
    "        \n",
    "        #0.01 * (1 * 1) * (1 * n)\n",
    "        \n",
    "        print (weights , '*' * 10 , dataMatrix[i], '*'* 10, error )\n",
    "        weights = weights + alpha * error * dataMatrix[i]\n",
    "        \n",
    "    return weights \n"
   ]
  },
  {
   "cell_type": "code",
   "execution_count": null,
   "metadata": {
    "collapsed": true
   },
   "outputs": [],
   "source": []
  }
 ],
 "metadata": {
  "kernelspec": {
   "display_name": "Python 3",
   "language": "python",
   "name": "python3"
  },
  "language_info": {
   "codemirror_mode": {
    "name": "ipython",
    "version": 3
   },
   "file_extension": ".py",
   "mimetype": "text/x-python",
   "name": "python",
   "nbconvert_exporter": "python",
   "pygments_lexer": "ipython3",
   "version": "3.6.1"
  }
 },
 "nbformat": 4,
 "nbformat_minor": 2
}
